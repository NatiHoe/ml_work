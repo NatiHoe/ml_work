{
 "cells": [
  {
   "cell_type": "code",
   "execution_count": 151,
   "id": "7c0c3743",
   "metadata": {},
   "outputs": [],
   "source": [
    "import numpy as np\n",
    "import pandas as pd \n",
    "import matplotlib.pyplot as plt\n",
    "import seaborn as sns\n",
    "from sklearn.preprocessing import MinMaxScaler, StandardScaler\n",
    "from sklearn.model_selection import train_test_split\n",
    "from sklearn.metrics import mean_absolute_error, mean_squared_error, mean_absolute_percentage_error\n",
    "from sklearn.linear_model import LinearRegression\n",
    "from sklearn.svm import SVR\n",
    "from sklearn.model_selection import GridSearchCV\n",
    "from sklearn.tree import DecisionTreeRegressor\n",
    "from sklearn.ensemble import RandomForestRegressor, GradientBoostingRegressor, AdaBoostRegressor\n",
    "from sklearn.neighbors import KNeighborsRegressor\n",
    "from sklearn.linear_model import Ridge, Lasso"
   ]
  },
  {
   "cell_type": "code",
   "execution_count": 152,
   "id": "c6331d5c",
   "metadata": {},
   "outputs": [
    {
     "data": {
      "text/html": [
       "<div>\n",
       "<style scoped>\n",
       "    .dataframe tbody tr th:only-of-type {\n",
       "        vertical-align: middle;\n",
       "    }\n",
       "\n",
       "    .dataframe tbody tr th {\n",
       "        vertical-align: top;\n",
       "    }\n",
       "\n",
       "    .dataframe thead th {\n",
       "        text-align: right;\n",
       "    }\n",
       "</style>\n",
       "<table border=\"1\" class=\"dataframe\">\n",
       "  <thead>\n",
       "    <tr style=\"text-align: right;\">\n",
       "      <th></th>\n",
       "      <th>Соотношение матрица-наполнитель</th>\n",
       "      <th>Плотность, кг/м3</th>\n",
       "      <th>модуль упругости, ГПа</th>\n",
       "      <th>Количество отвердителя, м.%</th>\n",
       "      <th>Содержание эпоксидных групп,%_2</th>\n",
       "      <th>Температура вспышки, С_2</th>\n",
       "      <th>Поверхностная плотность, г/м2</th>\n",
       "      <th>Модуль упругости при растяжении, ГПа</th>\n",
       "      <th>Прочность при растяжении, МПа</th>\n",
       "      <th>Потребление смолы, г/м2</th>\n",
       "      <th>Угол нашивки, град</th>\n",
       "      <th>Шаг нашивки</th>\n",
       "      <th>Плотность нашивки</th>\n",
       "    </tr>\n",
       "  </thead>\n",
       "  <tbody>\n",
       "    <tr>\n",
       "      <th>0</th>\n",
       "      <td>1.857143</td>\n",
       "      <td>2030.0</td>\n",
       "      <td>738.736842</td>\n",
       "      <td>50.00</td>\n",
       "      <td>23.750000</td>\n",
       "      <td>284.615385</td>\n",
       "      <td>210.0</td>\n",
       "      <td>70.0</td>\n",
       "      <td>3000.0</td>\n",
       "      <td>220.0</td>\n",
       "      <td>0.0</td>\n",
       "      <td>4.0</td>\n",
       "      <td>60.0</td>\n",
       "    </tr>\n",
       "    <tr>\n",
       "      <th>1</th>\n",
       "      <td>1.857143</td>\n",
       "      <td>2030.0</td>\n",
       "      <td>738.736842</td>\n",
       "      <td>129.00</td>\n",
       "      <td>21.250000</td>\n",
       "      <td>300.000000</td>\n",
       "      <td>210.0</td>\n",
       "      <td>70.0</td>\n",
       "      <td>3000.0</td>\n",
       "      <td>220.0</td>\n",
       "      <td>0.0</td>\n",
       "      <td>5.0</td>\n",
       "      <td>47.0</td>\n",
       "    </tr>\n",
       "    <tr>\n",
       "      <th>2</th>\n",
       "      <td>2.771331</td>\n",
       "      <td>2030.0</td>\n",
       "      <td>753.000000</td>\n",
       "      <td>111.86</td>\n",
       "      <td>22.267857</td>\n",
       "      <td>284.615385</td>\n",
       "      <td>210.0</td>\n",
       "      <td>70.0</td>\n",
       "      <td>3000.0</td>\n",
       "      <td>220.0</td>\n",
       "      <td>0.0</td>\n",
       "      <td>5.0</td>\n",
       "      <td>57.0</td>\n",
       "    </tr>\n",
       "    <tr>\n",
       "      <th>3</th>\n",
       "      <td>2.767918</td>\n",
       "      <td>2000.0</td>\n",
       "      <td>748.000000</td>\n",
       "      <td>111.86</td>\n",
       "      <td>22.267857</td>\n",
       "      <td>284.615385</td>\n",
       "      <td>210.0</td>\n",
       "      <td>70.0</td>\n",
       "      <td>3000.0</td>\n",
       "      <td>220.0</td>\n",
       "      <td>0.0</td>\n",
       "      <td>5.0</td>\n",
       "      <td>60.0</td>\n",
       "    </tr>\n",
       "    <tr>\n",
       "      <th>4</th>\n",
       "      <td>2.569620</td>\n",
       "      <td>1910.0</td>\n",
       "      <td>807.000000</td>\n",
       "      <td>111.86</td>\n",
       "      <td>22.267857</td>\n",
       "      <td>284.615385</td>\n",
       "      <td>210.0</td>\n",
       "      <td>70.0</td>\n",
       "      <td>3000.0</td>\n",
       "      <td>220.0</td>\n",
       "      <td>0.0</td>\n",
       "      <td>5.0</td>\n",
       "      <td>70.0</td>\n",
       "    </tr>\n",
       "  </tbody>\n",
       "</table>\n",
       "</div>"
      ],
      "text/plain": [
       "   Соотношение матрица-наполнитель  Плотность, кг/м3  модуль упругости, ГПа  \\\n",
       "0                         1.857143            2030.0             738.736842   \n",
       "1                         1.857143            2030.0             738.736842   \n",
       "2                         2.771331            2030.0             753.000000   \n",
       "3                         2.767918            2000.0             748.000000   \n",
       "4                         2.569620            1910.0             807.000000   \n",
       "\n",
       "   Количество отвердителя, м.%  Содержание эпоксидных групп,%_2  \\\n",
       "0                        50.00                        23.750000   \n",
       "1                       129.00                        21.250000   \n",
       "2                       111.86                        22.267857   \n",
       "3                       111.86                        22.267857   \n",
       "4                       111.86                        22.267857   \n",
       "\n",
       "   Температура вспышки, С_2  Поверхностная плотность, г/м2  \\\n",
       "0                284.615385                          210.0   \n",
       "1                300.000000                          210.0   \n",
       "2                284.615385                          210.0   \n",
       "3                284.615385                          210.0   \n",
       "4                284.615385                          210.0   \n",
       "\n",
       "   Модуль упругости при растяжении, ГПа  Прочность при растяжении, МПа  \\\n",
       "0                                  70.0                         3000.0   \n",
       "1                                  70.0                         3000.0   \n",
       "2                                  70.0                         3000.0   \n",
       "3                                  70.0                         3000.0   \n",
       "4                                  70.0                         3000.0   \n",
       "\n",
       "   Потребление смолы, г/м2  Угол нашивки, град  Шаг нашивки  Плотность нашивки  \n",
       "0                    220.0                 0.0          4.0               60.0  \n",
       "1                    220.0                 0.0          5.0               47.0  \n",
       "2                    220.0                 0.0          5.0               57.0  \n",
       "3                    220.0                 0.0          5.0               60.0  \n",
       "4                    220.0                 0.0          5.0               70.0  "
      ]
     },
     "execution_count": 152,
     "metadata": {},
     "output_type": "execute_result"
    }
   ],
   "source": [
    "df = pd.read_csv('DATA/clean.csv')\n",
    "df.head()"
   ]
  },
  {
   "cell_type": "code",
   "execution_count": 153,
   "id": "78071657",
   "metadata": {},
   "outputs": [
    {
     "data": {
      "text/plain": [
       "(922, 13)"
      ]
     },
     "execution_count": 153,
     "metadata": {},
     "output_type": "execute_result"
    }
   ],
   "source": [
    "df.shape"
   ]
  },
  {
   "cell_type": "markdown",
   "id": "075984bd",
   "metadata": {},
   "source": [
    "# Модели для прогноза модуля упругости при растяжении"
   ]
  },
  {
   "cell_type": "markdown",
   "id": "f1cc6157",
   "metadata": {},
   "source": [
    "## Нормализация данных"
   ]
  },
  {
   "cell_type": "code",
   "execution_count": 4,
   "id": "609614f4",
   "metadata": {},
   "outputs": [],
   "source": [
    "#зададим X и y\n",
    "X = df.drop(['Прочность при растяжении, МПа','Модуль упругости при растяжении, ГПа'], axis=1)\n",
    "y = df['Модуль упругости при растяжении, ГПа']"
   ]
  },
  {
   "cell_type": "code",
   "execution_count": 5,
   "id": "ff25b888",
   "metadata": {},
   "outputs": [],
   "source": [
    "minmax_scaler = MinMaxScaler()"
   ]
  },
  {
   "cell_type": "code",
   "execution_count": 6,
   "id": "60ec1c04",
   "metadata": {},
   "outputs": [],
   "source": [
    "# нормализуем X\n",
    "X_norm = pd.DataFrame(minmax_scaler.fit_transform(X))"
   ]
  },
  {
   "cell_type": "code",
   "execution_count": 7,
   "id": "55128be1",
   "metadata": {},
   "outputs": [],
   "source": [
    "#создадим обучающую и тестовую выборки \n",
    "X_train_norm, X_test_norm, y_train, y_test = train_test_split(X_norm, y, test_size=0.3, random_state=42)"
   ]
  },
  {
   "cell_type": "markdown",
   "id": "c97280fb",
   "metadata": {},
   "source": [
    "## Модель линейной регрессии"
   ]
  },
  {
   "cell_type": "code",
   "execution_count": 8,
   "id": "abea2d8c",
   "metadata": {},
   "outputs": [
    {
     "data": {
      "text/plain": [
       "LinearRegression()"
      ]
     },
     "execution_count": 8,
     "metadata": {},
     "output_type": "execute_result"
    }
   ],
   "source": [
    "#создаем и обучаем модель\n",
    "model = LinearRegression()\n",
    "model.fit(X_train_norm, y_train)"
   ]
  },
  {
   "cell_type": "code",
   "execution_count": 9,
   "id": "1d48976d",
   "metadata": {},
   "outputs": [],
   "source": [
    "# предсказания модели\n",
    "lr_predict = model.predict(X_test_norm)"
   ]
  },
  {
   "cell_type": "code",
   "execution_count": 10,
   "id": "a02e3085",
   "metadata": {},
   "outputs": [],
   "source": [
    "#вычисляем ошибки модели\n",
    "mae_lr = round(mean_absolute_error(y_test, lr_predict), 3)\n",
    "mse_lr = round(mean_squared_error(y_test, lr_predict), 3)\n",
    "mape_lr = round(mean_absolute_percentage_error(y_test, lr_predict), 3)\n",
    "rmse_lr = round(np.sqrt(mean_squared_error(y_test, lr_predict)), 3)"
   ]
  },
  {
   "cell_type": "code",
   "execution_count": 11,
   "id": "d4ce04cb",
   "metadata": {},
   "outputs": [
    {
     "name": "stdout",
     "output_type": "stream",
     "text": [
      "Метрики оценки качества работы линейной регрессии:\n",
      "MAE:  2.611\n",
      "MSE:  10.153\n",
      "MAPE:  0.035\n",
      "RMSE: 3.186\n"
     ]
    }
   ],
   "source": [
    "# выводим ошибки\n",
    "print(\"Метрики оценки качества работы линейной регрессии:\")\n",
    "print(\"MAE: \", mae_lr) \n",
    "print(\"MSE: \", mse_lr)\n",
    "print(\"MAPE: \", mape_lr)\n",
    "print(\"RMSE:\", rmse_lr)"
   ]
  },
  {
   "cell_type": "markdown",
   "id": "1de99ffa",
   "metadata": {},
   "source": [
    "## Гребневая регрессия"
   ]
  },
  {
   "cell_type": "code",
   "execution_count": 12,
   "id": "071a669d",
   "metadata": {},
   "outputs": [],
   "source": [
    "# создаем объект класса ridge\n",
    "ridge_model = Ridge()\n",
    "\n",
    "# задаем значения параметра\n",
    "param_grid_rr = {'alpha':[100.0, 200.0, 290.0, 300.0]}\n",
    "\n",
    "# создаем объект класса GridSearchCV \n",
    "ridge_model = GridSearchCV(estimator=ridge_model, param_grid=param_grid_rr,\n",
    "                         scoring='neg_mean_squared_error',\n",
    "                         cv=10)"
   ]
  },
  {
   "cell_type": "code",
   "execution_count": 13,
   "id": "df6384ee",
   "metadata": {},
   "outputs": [
    {
     "data": {
      "text/plain": [
       "GridSearchCV(cv=10, estimator=Ridge(),\n",
       "             param_grid={'alpha': [100.0, 200.0, 290.0, 300.0]},\n",
       "             scoring='neg_mean_squared_error')"
      ]
     },
     "execution_count": 13,
     "metadata": {},
     "output_type": "execute_result"
    }
   ],
   "source": [
    "# обучаем\n",
    "ridge_model.fit(X_train_norm,y_train)"
   ]
  },
  {
   "cell_type": "code",
   "execution_count": 14,
   "id": "cb884fbb",
   "metadata": {},
   "outputs": [
    {
     "data": {
      "text/plain": [
       "{'alpha': 200.0}"
      ]
     },
     "execution_count": 14,
     "metadata": {},
     "output_type": "execute_result"
    }
   ],
   "source": [
    "# лучший параметр для модели\n",
    "ridge_model.best_params_"
   ]
  },
  {
   "cell_type": "code",
   "execution_count": 15,
   "id": "72808052",
   "metadata": {},
   "outputs": [],
   "source": [
    "# создаем модель с найденным параметром\n",
    "model_rr = Ridge(alpha=200)"
   ]
  },
  {
   "cell_type": "code",
   "execution_count": 16,
   "id": "a880e2fa",
   "metadata": {},
   "outputs": [
    {
     "data": {
      "text/plain": [
       "Ridge(alpha=200)"
      ]
     },
     "execution_count": 16,
     "metadata": {},
     "output_type": "execute_result"
    }
   ],
   "source": [
    "# обучаем модель\n",
    "model_rr.fit(X_train_norm, y_train)"
   ]
  },
  {
   "cell_type": "code",
   "execution_count": 17,
   "id": "ecb76a39",
   "metadata": {},
   "outputs": [],
   "source": [
    "# предсказание модели\n",
    "ridge_pred = model.predict(X_test_norm)"
   ]
  },
  {
   "cell_type": "code",
   "execution_count": 18,
   "id": "eee55207",
   "metadata": {},
   "outputs": [],
   "source": [
    "# вычисляем ошибки\n",
    "mae_rr = round(mean_absolute_error(y_test, ridge_pred), 3)\n",
    "mse_rr = round(mean_squared_error(y_test, ridge_pred), 3)\n",
    "mape_rr = round(mean_absolute_percentage_error(y_test, ridge_pred), 3)\n",
    "rmse_rr = round(np.sqrt(mean_squared_error(y_test, ridge_pred)), 3)"
   ]
  },
  {
   "cell_type": "code",
   "execution_count": 19,
   "id": "fe41c64a",
   "metadata": {},
   "outputs": [
    {
     "name": "stdout",
     "output_type": "stream",
     "text": [
      "Метрики оценки качества работы гребневой регресии:\n",
      "MAE:  2.611\n",
      "MSE:  10.153\n",
      "MAPE:  0.035\n",
      "RMSE: 3.186\n"
     ]
    }
   ],
   "source": [
    "# выводим ошибки\n",
    "print(\"Метрики оценки качества работы гребневой регресии:\")\n",
    "print(\"MAE: \", mae_rr)\n",
    "print(\"MSE: \", mse_rr) \n",
    "print(\"MAPE: \", mape_rr)\n",
    "print(\"RMSE:\", rmse_rr)"
   ]
  },
  {
   "cell_type": "markdown",
   "id": "92578428",
   "metadata": {},
   "source": [
    "## Лассо регрессии"
   ]
  },
  {
   "cell_type": "code",
   "execution_count": 20,
   "id": "11fa2729",
   "metadata": {},
   "outputs": [],
   "source": [
    "# создаем объект класса Lasso\n",
    "lasso_model = Lasso()\n",
    "\n",
    "# задаем значения параметра\n",
    "param_grid_lasso = {'alpha':[100.0, 200.0, 290.0, 300.0]}\n",
    "\n",
    "# создаем объект класса GridSearchCV \n",
    "lasso_model = GridSearchCV(estimator=lasso_model, param_grid=param_grid_lasso,\n",
    "                         scoring='neg_mean_squared_error',\n",
    "                         cv=10)"
   ]
  },
  {
   "cell_type": "code",
   "execution_count": 21,
   "id": "13b15439",
   "metadata": {},
   "outputs": [
    {
     "data": {
      "text/plain": [
       "GridSearchCV(cv=10, estimator=Lasso(),\n",
       "             param_grid={'alpha': [100.0, 200.0, 290.0, 300.0]},\n",
       "             scoring='neg_mean_squared_error')"
      ]
     },
     "execution_count": 21,
     "metadata": {},
     "output_type": "execute_result"
    }
   ],
   "source": [
    "# обучаем\n",
    "lasso_model.fit(X_train_norm,y_train)"
   ]
  },
  {
   "cell_type": "code",
   "execution_count": 22,
   "id": "5be705f5",
   "metadata": {},
   "outputs": [
    {
     "data": {
      "text/plain": [
       "{'alpha': 100.0}"
      ]
     },
     "execution_count": 22,
     "metadata": {},
     "output_type": "execute_result"
    }
   ],
   "source": [
    "# лучший параметр для модели\n",
    "lasso_model.best_params_"
   ]
  },
  {
   "cell_type": "code",
   "execution_count": 23,
   "id": "f3b4b459",
   "metadata": {},
   "outputs": [],
   "source": [
    "# создаем модель с найденным параметром\n",
    "model_lasso = Lasso(alpha=100)"
   ]
  },
  {
   "cell_type": "code",
   "execution_count": 24,
   "id": "88cd8200",
   "metadata": {},
   "outputs": [
    {
     "data": {
      "text/plain": [
       "Lasso(alpha=100)"
      ]
     },
     "execution_count": 24,
     "metadata": {},
     "output_type": "execute_result"
    }
   ],
   "source": [
    "# обучаем модель\n",
    "model_lasso.fit(X_train_norm, y_train)"
   ]
  },
  {
   "cell_type": "code",
   "execution_count": 25,
   "id": "8254e48a",
   "metadata": {},
   "outputs": [],
   "source": [
    "# предсказание модели\n",
    "lasso_pred = model_lasso.predict(X_test_norm)"
   ]
  },
  {
   "cell_type": "code",
   "execution_count": 26,
   "id": "9905a68f",
   "metadata": {},
   "outputs": [],
   "source": [
    "# вычисляем ошибки\n",
    "mae_lasso = round(mean_absolute_error(y_test, lasso_pred), 3)\n",
    "mse_lasso = round(mean_squared_error(y_test, lasso_pred), 3)\n",
    "mape_lasso = round(mean_absolute_percentage_error(y_test, lasso_pred), 3)\n",
    "rmse_lasso = round(np.sqrt(mean_squared_error(y_test, lasso_pred)), 3)"
   ]
  },
  {
   "cell_type": "code",
   "execution_count": 27,
   "id": "ad2da8c8",
   "metadata": {},
   "outputs": [
    {
     "name": "stdout",
     "output_type": "stream",
     "text": [
      "Метрики оценки качества работы лассо регресии:\n",
      "MAE:  2.58\n",
      "MSE:  9.998\n",
      "MAPE:  0.035\n",
      "RMSE: 3.162\n"
     ]
    }
   ],
   "source": [
    "# выводим ошибки\n",
    "print(\"Метрики оценки качества работы лассо регресии:\")\n",
    "print(\"MAE: \", mae_lasso)\n",
    "print(\"MSE: \", mse_lasso) \n",
    "print(\"MAPE: \", mape_lasso)\n",
    "print(\"RMSE:\", rmse_lasso)"
   ]
  },
  {
   "cell_type": "markdown",
   "id": "34013872",
   "metadata": {},
   "source": [
    "## Случайный лес"
   ]
  },
  {
   "cell_type": "code",
   "execution_count": 36,
   "id": "dc09c3ef",
   "metadata": {},
   "outputs": [],
   "source": [
    "# задаем значения параметров\n",
    "param_grid = {'n_estimators':[64,100,128,140]}\n",
    "# создаем объект класса RandomForestRegressor\n",
    "model = RandomForestRegressor()"
   ]
  },
  {
   "cell_type": "code",
   "execution_count": 37,
   "id": "c84b6631",
   "metadata": {},
   "outputs": [],
   "source": [
    "# создаем объект класса GridSearchCV \n",
    "grid_model = GridSearchCV(estimator=model,\n",
    "                          param_grid=param_grid,\n",
    "                          scoring='neg_mean_squared_error',\n",
    "                          cv=10)"
   ]
  },
  {
   "cell_type": "code",
   "execution_count": 38,
   "id": "046ec6dd",
   "metadata": {},
   "outputs": [
    {
     "data": {
      "text/plain": [
       "GridSearchCV(cv=10, estimator=RandomForestRegressor(),\n",
       "             param_grid={'n_estimators': [64, 100, 128, 140]},\n",
       "             scoring='neg_mean_squared_error')"
      ]
     },
     "execution_count": 38,
     "metadata": {},
     "output_type": "execute_result"
    }
   ],
   "source": [
    "# обучаем\n",
    "grid_model.fit(X_train_norm,y_train)"
   ]
  },
  {
   "cell_type": "code",
   "execution_count": 39,
   "id": "2e17ae58",
   "metadata": {},
   "outputs": [
    {
     "data": {
      "text/plain": [
       "{'n_estimators': 128}"
      ]
     },
     "execution_count": 39,
     "metadata": {},
     "output_type": "execute_result"
    }
   ],
   "source": [
    "# лучший параметр для модели\n",
    "grid_model.best_params_"
   ]
  },
  {
   "cell_type": "code",
   "execution_count": 40,
   "id": "72c7a8f0",
   "metadata": {},
   "outputs": [],
   "source": [
    "# создаем модель с найденным параметром\n",
    "model_forest = RandomForestRegressor(n_estimators=128)"
   ]
  },
  {
   "cell_type": "code",
   "execution_count": 41,
   "id": "b0e8d742",
   "metadata": {},
   "outputs": [
    {
     "data": {
      "text/plain": [
       "RandomForestRegressor(n_estimators=128)"
      ]
     },
     "execution_count": 41,
     "metadata": {},
     "output_type": "execute_result"
    }
   ],
   "source": [
    "# обучаем модель\n",
    "model_forest.fit(X_train_norm,y_train)"
   ]
  },
  {
   "cell_type": "code",
   "execution_count": 42,
   "id": "a67d429e",
   "metadata": {},
   "outputs": [],
   "source": [
    "# предсказания модели\n",
    "forest_pred = model_forest.predict(X_test_norm)"
   ]
  },
  {
   "cell_type": "code",
   "execution_count": 43,
   "id": "6330c172",
   "metadata": {},
   "outputs": [
    {
     "name": "stdout",
     "output_type": "stream",
     "text": [
      "Метрики оценки качества работы случайного леса:\n",
      "MAE:  2.603\n",
      "MSE:  10.304\n",
      "MAPE:  0.035\n",
      "RMSE: 3.21\n"
     ]
    }
   ],
   "source": [
    "#вычисляем и выводим на экран метрики ошибок\n",
    "mae_rf = round(mean_absolute_error(y_test, forest_pred), 3)\n",
    "mse_rf = round(mean_squared_error(y_test, forest_pred), 3)\n",
    "mape_rf = round(mean_absolute_percentage_error(y_test, forest_pred), 3)\n",
    "rmse_rf = round(np.sqrt(mean_squared_error(y_test, forest_pred)), 3)\n",
    "print(\"Метрики оценки качества работы случайного леса:\")\n",
    "print(\"MAE: \", mae_rf)\n",
    "print(\"MSE: \", mse_rf) \n",
    "print(\"MAPE: \", mape_rf)\n",
    "print(\"RMSE:\", rmse_rf)"
   ]
  },
  {
   "cell_type": "markdown",
   "id": "888b463e",
   "metadata": {},
   "source": [
    "## Метод опорных векторов"
   ]
  },
  {
   "cell_type": "code",
   "execution_count": 44,
   "id": "c7213d93",
   "metadata": {},
   "outputs": [],
   "source": [
    "# создаем объект класса DecisionTreeRegressor\n",
    "svr_model = SVR()"
   ]
  },
  {
   "cell_type": "code",
   "execution_count": 45,
   "id": "0c47f1fe",
   "metadata": {},
   "outputs": [],
   "source": [
    "# задаем значения параметров\n",
    "param_grid = {'kernel':['linear', 'poly', 'rbf', 'sigmoid'],\n",
    "             'gamma':['scale', 'auto'], 'C':[0.5, 1.0, 2.0, 10.0]}"
   ]
  },
  {
   "cell_type": "code",
   "execution_count": 46,
   "id": "913d92b2",
   "metadata": {},
   "outputs": [],
   "source": [
    "# создаем объект класса GridSearchCV \n",
    "model_svr = GridSearchCV(estimator=svr_model, param_grid=param_grid,\n",
    "                         scoring='neg_mean_squared_error',\n",
    "                         cv=10)"
   ]
  },
  {
   "cell_type": "code",
   "execution_count": 47,
   "id": "efbacdf0",
   "metadata": {},
   "outputs": [
    {
     "data": {
      "text/plain": [
       "GridSearchCV(cv=10, estimator=SVR(),\n",
       "             param_grid={'C': [0.5, 1.0, 2.0, 10.0], 'gamma': ['scale', 'auto'],\n",
       "                         'kernel': ['linear', 'poly', 'rbf', 'sigmoid']},\n",
       "             scoring='neg_mean_squared_error')"
      ]
     },
     "execution_count": 47,
     "metadata": {},
     "output_type": "execute_result"
    }
   ],
   "source": [
    "# обучаем\n",
    "model_svr.fit(X_train_norm, y_train)"
   ]
  },
  {
   "cell_type": "code",
   "execution_count": 48,
   "id": "b48b79f9",
   "metadata": {},
   "outputs": [
    {
     "data": {
      "text/plain": [
       "{'C': 1.0, 'gamma': 'auto', 'kernel': 'poly'}"
      ]
     },
     "execution_count": 48,
     "metadata": {},
     "output_type": "execute_result"
    }
   ],
   "source": [
    "# лучшие параметры для модели\n",
    "model_svr.best_params_"
   ]
  },
  {
   "cell_type": "code",
   "execution_count": 49,
   "id": "4982c957",
   "metadata": {},
   "outputs": [],
   "source": [
    "# создаем модель с найденными параметрами\n",
    "svr_model = SVR(C=1.0, gamma='auto', kernel='poly')"
   ]
  },
  {
   "cell_type": "code",
   "execution_count": 50,
   "id": "b1099017",
   "metadata": {},
   "outputs": [
    {
     "data": {
      "text/plain": [
       "SVR(gamma='auto', kernel='poly')"
      ]
     },
     "execution_count": 50,
     "metadata": {},
     "output_type": "execute_result"
    }
   ],
   "source": [
    "# обучаем модель\n",
    "svr_model.fit(X_train_norm, y_train)"
   ]
  },
  {
   "cell_type": "code",
   "execution_count": 51,
   "id": "ac6d70e3",
   "metadata": {},
   "outputs": [],
   "source": [
    "# предсказания модели\n",
    "svr_preds = svr_model.predict(X_test_norm)"
   ]
  },
  {
   "cell_type": "code",
   "execution_count": 52,
   "id": "bc284068",
   "metadata": {},
   "outputs": [],
   "source": [
    "#вычисляем метрики ошибок \n",
    "mae_svr = round(mean_absolute_error(y_test, svr_preds), 3)\n",
    "mse_svr = round(mean_squared_error(y_test, svr_preds), 3)\n",
    "mape_svr = round(mean_absolute_percentage_error(y_test, svr_preds), 3)\n",
    "rmse_svr = round(np.sqrt(mean_squared_error(y_test, svr_preds)), 3)"
   ]
  },
  {
   "cell_type": "code",
   "execution_count": 53,
   "id": "7f6a75dd",
   "metadata": {},
   "outputs": [
    {
     "name": "stdout",
     "output_type": "stream",
     "text": [
      "Метрики оценки качества работы метода опорных векторов:\n",
      "MAE:  2.591\n",
      "MSE:  10.071\n",
      "MAPE:  0.035\n",
      "RMSE: 3.174\n"
     ]
    }
   ],
   "source": [
    "# выводим на экран метрики ошибок\n",
    "print(\"Метрики оценки качества работы метода опорных векторов:\")\n",
    "print(\"MAE: \", mae_svr)\n",
    "print(\"MSE: \", mse_svr)\n",
    "print(\"MAPE: \", mape_svr)\n",
    "print(\"RMSE:\", rmse_svr)"
   ]
  },
  {
   "cell_type": "markdown",
   "id": "560eaea5",
   "metadata": {},
   "source": [
    "## Градиентный бустинг"
   ]
  },
  {
   "cell_type": "code",
   "execution_count": 54,
   "id": "f15032aa",
   "metadata": {},
   "outputs": [],
   "source": [
    "# задаем значения параметров\n",
    "param_grid = {'n_estimators':[2,5,10,15],\n",
    "              'learning_rate':[0.1,0.05,0.2], 'max_depth':[5,6,7]}"
   ]
  },
  {
   "cell_type": "code",
   "execution_count": 55,
   "id": "08495227",
   "metadata": {},
   "outputs": [],
   "source": [
    "# создаем объект класса GradientBoostingRegressor\n",
    "model_gb = GradientBoostingRegressor()"
   ]
  },
  {
   "cell_type": "code",
   "execution_count": 56,
   "id": "6ac9c2ed",
   "metadata": {},
   "outputs": [],
   "source": [
    "# создаем объект класса GridSearchCV \n",
    "grid = GridSearchCV(estimator=model_gb,param_grid=param_grid,\n",
    "                          scoring='neg_mean_squared_error',\n",
    "                          cv=10)"
   ]
  },
  {
   "cell_type": "code",
   "execution_count": 57,
   "id": "fc5da547",
   "metadata": {},
   "outputs": [
    {
     "data": {
      "text/plain": [
       "GridSearchCV(cv=10, estimator=GradientBoostingRegressor(),\n",
       "             param_grid={'learning_rate': [0.1, 0.05, 0.2],\n",
       "                         'max_depth': [5, 6, 7],\n",
       "                         'n_estimators': [2, 5, 10, 15]},\n",
       "             scoring='neg_mean_squared_error')"
      ]
     },
     "execution_count": 57,
     "metadata": {},
     "output_type": "execute_result"
    }
   ],
   "source": [
    "# обучаем\n",
    "grid.fit(X_train_norm,y_train)"
   ]
  },
  {
   "cell_type": "code",
   "execution_count": 58,
   "id": "20d97867",
   "metadata": {},
   "outputs": [
    {
     "data": {
      "text/plain": [
       "{'learning_rate': 0.05, 'max_depth': 5, 'n_estimators': 2}"
      ]
     },
     "execution_count": 58,
     "metadata": {},
     "output_type": "execute_result"
    }
   ],
   "source": [
    "# лучшие параметры для модели\n",
    "grid.best_params_"
   ]
  },
  {
   "cell_type": "code",
   "execution_count": 59,
   "id": "e82c68b1",
   "metadata": {},
   "outputs": [],
   "source": [
    "# создаем модель с найденными параметрами\n",
    "gb_model = GradientBoostingRegressor(learning_rate=0.05, max_depth=5, n_estimators=2)"
   ]
  },
  {
   "cell_type": "code",
   "execution_count": 60,
   "id": "71c7bba2",
   "metadata": {},
   "outputs": [
    {
     "data": {
      "text/plain": [
       "GradientBoostingRegressor(learning_rate=0.05, max_depth=5, n_estimators=2)"
      ]
     },
     "execution_count": 60,
     "metadata": {},
     "output_type": "execute_result"
    }
   ],
   "source": [
    "# обучаем модель\n",
    "gb_model.fit(X_train_norm, y_train)"
   ]
  },
  {
   "cell_type": "code",
   "execution_count": 61,
   "id": "fcbe69d2",
   "metadata": {},
   "outputs": [],
   "source": [
    "# предсказания модели\n",
    "gb_pred = gb_model.predict(X_test_norm)"
   ]
  },
  {
   "cell_type": "code",
   "execution_count": 62,
   "id": "d9299760",
   "metadata": {},
   "outputs": [
    {
     "name": "stdout",
     "output_type": "stream",
     "text": [
      "Метрики оценки качества работы градиентного бустинга:\n",
      "MAE:  2.588\n",
      "MSE:  10.038\n",
      "MAPE:  0.035\n",
      "RMSE: 3.168\n"
     ]
    }
   ],
   "source": [
    "#вычисляем и выводим на экран метрики ошибок\n",
    "mae_gb = round(mean_absolute_error(y_test, gb_pred), 3)\n",
    "mse_gb = round(mean_squared_error(y_test, gb_pred), 3)\n",
    "mape_gb = round(mean_absolute_percentage_error(y_test, gb_pred), 3)\n",
    "rmse_gb = round(np.sqrt(mean_squared_error(y_test, gb_pred)), 3)\n",
    "print(\"Метрики оценки качества работы градиентного бустинга:\")\n",
    "print(\"MAE: \", mae_gb)\n",
    "print(\"MSE: \", mse_gb)\n",
    "print(\"MAPE: \", mape_gb)\n",
    "print(\"RMSE:\", rmse_gb)"
   ]
  },
  {
   "cell_type": "markdown",
   "id": "105fcfd0",
   "metadata": {},
   "source": [
    "## Адаптивный бустинг "
   ]
  },
  {
   "cell_type": "code",
   "execution_count": 63,
   "id": "4642b416",
   "metadata": {},
   "outputs": [],
   "source": [
    "# задаем параметры для поиска по сетке\n",
    "param_grid = {'n_estimators':[5,10,15,20],\n",
    "              'learning_rate':[0.1,0.05,0.2,0.25]}"
   ]
  },
  {
   "cell_type": "code",
   "execution_count": 64,
   "id": "7498c720",
   "metadata": {},
   "outputs": [],
   "source": [
    "# создаем объект класса AdaBoostRegressor\n",
    "model_ab = AdaBoostRegressor()"
   ]
  },
  {
   "cell_type": "code",
   "execution_count": 65,
   "id": "1548db65",
   "metadata": {},
   "outputs": [],
   "source": [
    "# создаем объект класса GridSearchCV \n",
    "grid_ab = GridSearchCV(estimator=model_ab, param_grid=param_grid,\n",
    "                          scoring='neg_mean_squared_error',\n",
    "                          cv=10)"
   ]
  },
  {
   "cell_type": "code",
   "execution_count": 66,
   "id": "4aab59dd",
   "metadata": {},
   "outputs": [
    {
     "data": {
      "text/plain": [
       "GridSearchCV(cv=10, estimator=AdaBoostRegressor(),\n",
       "             param_grid={'learning_rate': [0.1, 0.05, 0.2, 0.25],\n",
       "                         'n_estimators': [5, 10, 15, 20]},\n",
       "             scoring='neg_mean_squared_error')"
      ]
     },
     "execution_count": 66,
     "metadata": {},
     "output_type": "execute_result"
    }
   ],
   "source": [
    "# обучаем\n",
    "grid_ab.fit(X_train_norm, y_train)"
   ]
  },
  {
   "cell_type": "code",
   "execution_count": 67,
   "id": "3ca70883",
   "metadata": {},
   "outputs": [
    {
     "data": {
      "text/plain": [
       "{'learning_rate': 0.05, 'n_estimators': 20}"
      ]
     },
     "execution_count": 67,
     "metadata": {},
     "output_type": "execute_result"
    }
   ],
   "source": [
    "# лучшие параметры для модели\n",
    "grid_ab.best_params_"
   ]
  },
  {
   "cell_type": "code",
   "execution_count": 68,
   "id": "1de7710c",
   "metadata": {},
   "outputs": [],
   "source": [
    "# создаем модель с найденными параметрами\n",
    "ab_model = AdaBoostRegressor(learning_rate=0.05, n_estimators=20)"
   ]
  },
  {
   "cell_type": "code",
   "execution_count": 69,
   "id": "e5caa7a8",
   "metadata": {},
   "outputs": [
    {
     "data": {
      "text/plain": [
       "AdaBoostRegressor(learning_rate=0.05, n_estimators=20)"
      ]
     },
     "execution_count": 69,
     "metadata": {},
     "output_type": "execute_result"
    }
   ],
   "source": [
    "# обучаем модель\n",
    "ab_model.fit(X_train_norm, y_train)"
   ]
  },
  {
   "cell_type": "code",
   "execution_count": 70,
   "id": "7b2e5b5e",
   "metadata": {},
   "outputs": [],
   "source": [
    "# предсказания модели\n",
    "ab_predict = ab_model.predict(X_test_norm)"
   ]
  },
  {
   "cell_type": "code",
   "execution_count": 71,
   "id": "0491e217",
   "metadata": {},
   "outputs": [
    {
     "name": "stdout",
     "output_type": "stream",
     "text": [
      "Метрики оценки качества работы AdaBoost:\n",
      "MAE:  2.568\n",
      "MSE:  9.872\n",
      "MAPE:  0.035\n",
      "RMSE: 3.142\n"
     ]
    }
   ],
   "source": [
    "#вычисляем и выводим на экран метрики ошибок\n",
    "mae_ab = round(mean_absolute_error(y_test, ab_predict), 3)\n",
    "mse_ab = round(mean_squared_error(y_test, ab_predict), 3)\n",
    "mape_ab = round(mean_absolute_percentage_error(y_test, ab_predict), 3)\n",
    "rmse_ab = round(np.sqrt(mean_squared_error(y_test, ab_predict)), 3)\n",
    "print(\"Метрики оценки качества работы AdaBoost:\")\n",
    "print(\"MAE: \", mae_ab)\n",
    "print(\"MSE: \", mse_ab) \n",
    "print(\"MAPE: \", mape_ab)\n",
    "print(\"RMSE:\", rmse_ab)"
   ]
  },
  {
   "cell_type": "markdown",
   "id": "973252ba",
   "metadata": {},
   "source": [
    "## Метод ближайших соседей"
   ]
  },
  {
   "cell_type": "code",
   "execution_count": 72,
   "id": "a1fa12b8",
   "metadata": {},
   "outputs": [],
   "source": [
    "# создаем объект класса KNeighborsRegressor\n",
    "knn_model = KNeighborsRegressor()\n",
    "# задаем значения параметра\n",
    "param_grid_knn = {'n_neighbors':[20,30,35,39]}\n",
    "# создаем объект класса GridSearchCV \n",
    "grid_knn = GridSearchCV(estimator=knn_model, param_grid=param_grid_knn,\n",
    "                          scoring='neg_mean_squared_error',\n",
    "                          cv=10)"
   ]
  },
  {
   "cell_type": "code",
   "execution_count": 73,
   "id": "02041363",
   "metadata": {},
   "outputs": [
    {
     "data": {
      "text/plain": [
       "GridSearchCV(cv=10, estimator=KNeighborsRegressor(),\n",
       "             param_grid={'n_neighbors': [20, 30, 35, 39]},\n",
       "             scoring='neg_mean_squared_error')"
      ]
     },
     "execution_count": 73,
     "metadata": {},
     "output_type": "execute_result"
    }
   ],
   "source": [
    "# обучаем\n",
    "grid_knn.fit(X_train_norm, y_train)"
   ]
  },
  {
   "cell_type": "code",
   "execution_count": 74,
   "id": "bde76a95",
   "metadata": {},
   "outputs": [
    {
     "data": {
      "text/plain": [
       "{'n_neighbors': 39}"
      ]
     },
     "execution_count": 74,
     "metadata": {},
     "output_type": "execute_result"
    }
   ],
   "source": [
    "# лучший параметр для модели\n",
    "grid_knn.best_params_"
   ]
  },
  {
   "cell_type": "code",
   "execution_count": 75,
   "id": "660be975",
   "metadata": {},
   "outputs": [
    {
     "data": {
      "text/plain": [
       "KNeighborsRegressor(n_neighbors=39)"
      ]
     },
     "execution_count": 75,
     "metadata": {},
     "output_type": "execute_result"
    }
   ],
   "source": [
    "# создаем модель с найденными параметрами\n",
    "model_knn = KNeighborsRegressor(n_neighbors=39)\n",
    "# обучаем модель\n",
    "model_knn.fit(X_train_norm, y_train)"
   ]
  },
  {
   "cell_type": "code",
   "execution_count": 76,
   "id": "8fe22770",
   "metadata": {},
   "outputs": [],
   "source": [
    "# предсказания модели\n",
    "knn_preds = model_knn.predict(X_test_norm)"
   ]
  },
  {
   "cell_type": "code",
   "execution_count": 77,
   "id": "921d344e",
   "metadata": {},
   "outputs": [
    {
     "name": "stdout",
     "output_type": "stream",
     "text": [
      "Метрики оценки качества работы метода ближайших соседей:\n",
      "MAE:  2.619\n",
      "MSE:  10.22\n",
      "MAPE:  0.036\n",
      "RMSE: 3.197\n"
     ]
    }
   ],
   "source": [
    "#вычисляем и выводим на экран метрики ошибок\n",
    "mae_knn = round(mean_absolute_error(y_test, knn_preds), 3)\n",
    "mse_knn = round(mean_squared_error(y_test, knn_preds), 3)\n",
    "mape_knn = round(mean_absolute_percentage_error(y_test, knn_preds), 3)\n",
    "rmse_knn = round(np.sqrt(mean_squared_error(y_test, knn_preds)), 3)\n",
    "print(\"Метрики оценки качества работы метода ближайших соседей:\")\n",
    "print(\"MAE: \", mae_knn)\n",
    "print(\"MSE: \", mse_knn) \n",
    "print(\"MAPE: \", mape_knn)\n",
    "print(\"RMSE:\", rmse_knn)"
   ]
  },
  {
   "cell_type": "markdown",
   "id": "1f43b250",
   "metadata": {},
   "source": [
    "## Сравнение моделей по метрикам"
   ]
  },
  {
   "cell_type": "code",
   "execution_count": 149,
   "id": "75ec656c",
   "metadata": {},
   "outputs": [],
   "source": [
    "#создадим объединенный датафрейм со значеними ошибок модели\n",
    "algorithms = {'Алгоритм':['Линейная регрессия', 'Гребневая регрессия', 'Лассо регрессии', \n",
    "                          'Метод опорных векторов', 'Случайный лес', \n",
    "                          'Градиентный бустинг', 'Адаптивный бустинг', 'KNN'], \n",
    "              'MAE':[mae_lr, mae_rr, mae_lasso, mae_svr, mae_rf, mae_gb, mae_ab, mae_knn],\n",
    "              'RMSE':[rmse_lr, rmse_rr, rmse_lasso, rmse_svr, rmse_rf, rmse_gb, rmse_ab, rmse_gb]} \n",
    " \n",
    "metrics_df = pd.DataFrame(algorithms) "
   ]
  },
  {
   "cell_type": "code",
   "execution_count": 150,
   "id": "2369bc35",
   "metadata": {},
   "outputs": [
    {
     "data": {
      "text/html": [
       "<div>\n",
       "<style scoped>\n",
       "    .dataframe tbody tr th:only-of-type {\n",
       "        vertical-align: middle;\n",
       "    }\n",
       "\n",
       "    .dataframe tbody tr th {\n",
       "        vertical-align: top;\n",
       "    }\n",
       "\n",
       "    .dataframe thead th {\n",
       "        text-align: right;\n",
       "    }\n",
       "</style>\n",
       "<table border=\"1\" class=\"dataframe\">\n",
       "  <thead>\n",
       "    <tr style=\"text-align: right;\">\n",
       "      <th></th>\n",
       "      <th>Алгоритм</th>\n",
       "      <th>MAE</th>\n",
       "      <th>RMSE</th>\n",
       "    </tr>\n",
       "  </thead>\n",
       "  <tbody>\n",
       "    <tr>\n",
       "      <th>0</th>\n",
       "      <td>Линейная регрессия</td>\n",
       "      <td>2.611</td>\n",
       "      <td>3.186</td>\n",
       "    </tr>\n",
       "    <tr>\n",
       "      <th>1</th>\n",
       "      <td>Гребневая регрессия</td>\n",
       "      <td>2.611</td>\n",
       "      <td>3.186</td>\n",
       "    </tr>\n",
       "    <tr>\n",
       "      <th>2</th>\n",
       "      <td>Лассо регрессии</td>\n",
       "      <td>2.580</td>\n",
       "      <td>3.162</td>\n",
       "    </tr>\n",
       "    <tr>\n",
       "      <th>3</th>\n",
       "      <td>Метод опорных векторов</td>\n",
       "      <td>2.591</td>\n",
       "      <td>3.174</td>\n",
       "    </tr>\n",
       "    <tr>\n",
       "      <th>4</th>\n",
       "      <td>Случайный лес</td>\n",
       "      <td>2.603</td>\n",
       "      <td>3.210</td>\n",
       "    </tr>\n",
       "    <tr>\n",
       "      <th>5</th>\n",
       "      <td>Градиентный бустинг</td>\n",
       "      <td>2.588</td>\n",
       "      <td>3.168</td>\n",
       "    </tr>\n",
       "    <tr>\n",
       "      <th>6</th>\n",
       "      <td>Адаптивный бустинг</td>\n",
       "      <td>2.568</td>\n",
       "      <td>3.142</td>\n",
       "    </tr>\n",
       "    <tr>\n",
       "      <th>7</th>\n",
       "      <td>KNN</td>\n",
       "      <td>2.619</td>\n",
       "      <td>3.168</td>\n",
       "    </tr>\n",
       "  </tbody>\n",
       "</table>\n",
       "</div>"
      ],
      "text/plain": [
       "                 Алгоритм    MAE   RMSE\n",
       "0      Линейная регрессия  2.611  3.186\n",
       "1     Гребневая регрессия  2.611  3.186\n",
       "2         Лассо регрессии  2.580  3.162\n",
       "3  Метод опорных векторов  2.591  3.174\n",
       "4           Случайный лес  2.603  3.210\n",
       "5     Градиентный бустинг  2.588  3.168\n",
       "6      Адаптивный бустинг  2.568  3.142\n",
       "7                     KNN  2.619  3.168"
      ]
     },
     "execution_count": 150,
     "metadata": {},
     "output_type": "execute_result"
    }
   ],
   "source": [
    "# выводим на экран датафрейм\n",
    "metrics_df"
   ]
  },
  {
   "cell_type": "markdown",
   "id": "c41a3f86",
   "metadata": {},
   "source": [
    "Вывод: \\\n",
    "    На данном этапе лучшим алгоритмом является лассо регрессии."
   ]
  },
  {
   "cell_type": "markdown",
   "id": "ba53cf2d",
   "metadata": {},
   "source": [
    "## Предсказания прочности при растяжении, МПа"
   ]
  },
  {
   "cell_type": "code",
   "execution_count": 78,
   "id": "65db6741",
   "metadata": {},
   "outputs": [],
   "source": [
    "#зададим X и y\n",
    "X_dens = df.drop(['Прочность при растяжении, МПа','Модуль упругости при растяжении, ГПа'], axis=1)\n",
    "y_dens = df['Прочность при растяжении, МПа']"
   ]
  },
  {
   "cell_type": "markdown",
   "id": "bea4096c",
   "metadata": {},
   "source": [
    "X состоит из 11 признаков поскольку значения модуля упругости при растяжении не участвуют в прогнозировании прочности при растяжении, так как являются вторым прогнозируемым свойством композиционного материала"
   ]
  },
  {
   "cell_type": "code",
   "execution_count": 79,
   "id": "c66c29bc",
   "metadata": {},
   "outputs": [],
   "source": [
    "# создаем объект класса MinMaxScaler\n",
    "min_max_scaler = MinMaxScaler()"
   ]
  },
  {
   "cell_type": "code",
   "execution_count": 80,
   "id": "7b98f5f7",
   "metadata": {},
   "outputs": [],
   "source": [
    "# нормализуем X\n",
    "X_dens_norm = min_max_scaler.fit_transform(X_dens)"
   ]
  },
  {
   "cell_type": "code",
   "execution_count": 81,
   "id": "7fab79f8",
   "metadata": {},
   "outputs": [],
   "source": [
    "# создаем обучающую и тестовую выборки\n",
    "X_train_normal, X_test_normal, y_train_dens, y_test_dens = train_test_split(X_dens_norm, y_dens, test_size=0.3, random_state=42)"
   ]
  },
  {
   "cell_type": "markdown",
   "id": "27e0be22",
   "metadata": {},
   "source": [
    "## Линейная регрессия"
   ]
  },
  {
   "cell_type": "code",
   "execution_count": 82,
   "id": "14fbc3aa",
   "metadata": {},
   "outputs": [],
   "source": [
    "# создаем модель линейной регрессии\n",
    "model_lr = LinearRegression()"
   ]
  },
  {
   "cell_type": "code",
   "execution_count": 83,
   "id": "e13e6a87",
   "metadata": {},
   "outputs": [
    {
     "data": {
      "text/plain": [
       "LinearRegression()"
      ]
     },
     "execution_count": 83,
     "metadata": {},
     "output_type": "execute_result"
    }
   ],
   "source": [
    "# обучаем модель\n",
    "model_lr.fit(X_train_normal, y_train_dens)"
   ]
  },
  {
   "cell_type": "code",
   "execution_count": 84,
   "id": "9f012ec1",
   "metadata": {},
   "outputs": [],
   "source": [
    "# предсказания модели\n",
    "lr_pred = model_lr.predict(X_test_normal)"
   ]
  },
  {
   "cell_type": "code",
   "execution_count": 85,
   "id": "7e01b4dd",
   "metadata": {},
   "outputs": [],
   "source": [
    "#вычисляем метрики ошибок \n",
    "mae_dens_lr = round(mean_absolute_error(y_test_dens, lr_pred), 3)\n",
    "mse_lr_dens = round(mean_squared_error(y_test_dens, lr_pred), 3)\n",
    "mape_lr_dens = round(mean_absolute_percentage_error(y_test_dens, lr_pred), 3)\n",
    "rmse_lr_dens = round(np.sqrt(mean_squared_error(y_test_dens, lr_pred)), 3)"
   ]
  },
  {
   "cell_type": "code",
   "execution_count": 86,
   "id": "bb2b601b",
   "metadata": {},
   "outputs": [
    {
     "name": "stdout",
     "output_type": "stream",
     "text": [
      "Метрики оценки качества работы линейной регрессии:\n",
      "MAE:  372.052\n",
      "MSE:  214801.91\n",
      "MAPE:  0.163\n",
      "RMSE: 463.467\n"
     ]
    }
   ],
   "source": [
    "# выводим на экран метрики ошибок\n",
    "print(\"Метрики оценки качества работы линейной регрессии:\")\n",
    "print(\"MAE: \", mae_dens_lr) \n",
    "print(\"MSE: \", mse_lr_dens)\n",
    "print(\"MAPE: \", mape_lr_dens)\n",
    "print(\"RMSE:\", rmse_lr_dens)"
   ]
  },
  {
   "cell_type": "markdown",
   "id": "c41c3bde",
   "metadata": {},
   "source": [
    "## Гребневая регрессия"
   ]
  },
  {
   "cell_type": "code",
   "execution_count": 87,
   "id": "eaa7bf06",
   "metadata": {},
   "outputs": [],
   "source": [
    "# создаем объект класса Ridge\n",
    "ridge_model_dens = Ridge()\n",
    "# задаем значения параметров\n",
    "param_grid_rr_dens = {'alpha':[100.0, 200.0, 300.0, 600.0, 800.0]}\n",
    "# создаем объект класса GridSearchCV \n",
    "ridge_cv_model = GridSearchCV(estimator=ridge_model_dens, param_grid=param_grid_rr_dens,\n",
    "                         scoring='neg_mean_squared_error',\n",
    "                         cv=10)"
   ]
  },
  {
   "cell_type": "code",
   "execution_count": 88,
   "id": "01528f44",
   "metadata": {},
   "outputs": [
    {
     "data": {
      "text/plain": [
       "GridSearchCV(cv=10, estimator=Ridge(),\n",
       "             param_grid={'alpha': [100.0, 200.0, 300.0, 600.0, 800.0]},\n",
       "             scoring='neg_mean_squared_error')"
      ]
     },
     "execution_count": 88,
     "metadata": {},
     "output_type": "execute_result"
    }
   ],
   "source": [
    "# обучаем\n",
    "ridge_cv_model.fit(X_train_normal, y_train_dens)"
   ]
  },
  {
   "cell_type": "code",
   "execution_count": 89,
   "id": "5e178553",
   "metadata": {},
   "outputs": [
    {
     "data": {
      "text/plain": [
       "{'alpha': 800.0}"
      ]
     },
     "execution_count": 89,
     "metadata": {},
     "output_type": "execute_result"
    }
   ],
   "source": [
    "# лучший параметр для модели\n",
    "ridge_cv_model.best_params_"
   ]
  },
  {
   "cell_type": "code",
   "execution_count": 90,
   "id": "4b908c39",
   "metadata": {},
   "outputs": [],
   "source": [
    "# создаем модель с найденным параметром\n",
    "model_rr_dens = Ridge(alpha=800)"
   ]
  },
  {
   "cell_type": "code",
   "execution_count": 91,
   "id": "07e47014",
   "metadata": {},
   "outputs": [
    {
     "data": {
      "text/plain": [
       "Ridge(alpha=800)"
      ]
     },
     "execution_count": 91,
     "metadata": {},
     "output_type": "execute_result"
    }
   ],
   "source": [
    "# обучаем модель\n",
    "model_rr_dens.fit(X_train_normal, y_train_dens)"
   ]
  },
  {
   "cell_type": "code",
   "execution_count": 92,
   "id": "027725d0",
   "metadata": {},
   "outputs": [],
   "source": [
    "# предсказания модели\n",
    "ridge_preds = model_rr_dens.predict(X_test_normal)"
   ]
  },
  {
   "cell_type": "code",
   "execution_count": 93,
   "id": "39103e6f",
   "metadata": {},
   "outputs": [
    {
     "name": "stdout",
     "output_type": "stream",
     "text": [
      "Метрики оценки качества работы гребневой регресии:\n",
      "MAE:  368.959\n",
      "MSE:  214063.523\n",
      "MAPE:  0.162\n",
      "RMSE: 462.67\n"
     ]
    }
   ],
   "source": [
    "#вычисляем и выводим на экран метрики ошибок\n",
    "mae_rr_dens = round(mean_absolute_error(y_test_dens, ridge_preds), 3)\n",
    "mse_rr_dens = round(mean_squared_error(y_test_dens, ridge_preds), 3)\n",
    "mape_rr_dens = round(mean_absolute_percentage_error(y_test_dens, ridge_preds), 3)\n",
    "rmse_rr_dens = round(np.sqrt(mean_squared_error(y_test_dens, ridge_preds)), 3)\n",
    "print(\"Метрики оценки качества работы гребневой регресии:\")\n",
    "print(\"MAE: \", mae_rr_dens)\n",
    "print(\"MSE: \", mse_rr_dens) \n",
    "print(\"MAPE: \", mape_rr_dens)\n",
    "print(\"RMSE:\", rmse_rr_dens)"
   ]
  },
  {
   "cell_type": "markdown",
   "id": "8ab6226a",
   "metadata": {},
   "source": [
    "## Лассо регрессии"
   ]
  },
  {
   "cell_type": "code",
   "execution_count": 94,
   "id": "c063209d",
   "metadata": {},
   "outputs": [],
   "source": [
    "# создаем объект класса Lasso\n",
    "lasso_model_dens = Lasso()\n",
    "# задаем значения параметра\n",
    "param_grid_lasso = {'alpha':[5, 10, 15]}\n",
    "# создаем объект класса GridSearchCV \n",
    "grid_lasso_dens = GridSearchCV(estimator=lasso_model_dens, param_grid=param_grid_lasso,\n",
    "                         scoring='neg_mean_squared_error',\n",
    "                         cv=10)"
   ]
  },
  {
   "cell_type": "code",
   "execution_count": 95,
   "id": "cb61c776",
   "metadata": {},
   "outputs": [
    {
     "data": {
      "text/plain": [
       "GridSearchCV(cv=10, estimator=Lasso(), param_grid={'alpha': [5, 10, 15]},\n",
       "             scoring='neg_mean_squared_error')"
      ]
     },
     "execution_count": 95,
     "metadata": {},
     "output_type": "execute_result"
    }
   ],
   "source": [
    "# обучаем\n",
    "grid_lasso_dens.fit(X_train_normal,y_train_dens)"
   ]
  },
  {
   "cell_type": "code",
   "execution_count": 96,
   "id": "5ec19503",
   "metadata": {},
   "outputs": [
    {
     "data": {
      "text/plain": [
       "{'alpha': 10}"
      ]
     },
     "execution_count": 96,
     "metadata": {},
     "output_type": "execute_result"
    }
   ],
   "source": [
    "# лучший параметр для модели\n",
    "grid_lasso_dens.best_params_"
   ]
  },
  {
   "cell_type": "code",
   "execution_count": 98,
   "id": "871d86cd",
   "metadata": {},
   "outputs": [],
   "source": [
    "# создаем модель с найденным параметром\n",
    "model_lasso_dens = Lasso(alpha=10)"
   ]
  },
  {
   "cell_type": "code",
   "execution_count": 99,
   "id": "17ee1438",
   "metadata": {},
   "outputs": [
    {
     "data": {
      "text/plain": [
       "Lasso(alpha=10)"
      ]
     },
     "execution_count": 99,
     "metadata": {},
     "output_type": "execute_result"
    }
   ],
   "source": [
    "# обучаем модель\n",
    "model_lasso_dens.fit(X_train_normal, y_train_dens)"
   ]
  },
  {
   "cell_type": "code",
   "execution_count": 100,
   "id": "e0cfeacb",
   "metadata": {},
   "outputs": [],
   "source": [
    "# предсказания модели\n",
    "lasso_predict = model_lasso_dens.predict(X_test_normal)"
   ]
  },
  {
   "cell_type": "code",
   "execution_count": 101,
   "id": "e8ded45d",
   "metadata": {},
   "outputs": [],
   "source": [
    "#вычисляем метрики ошибок \n",
    "mae_dens_lasso = round(mean_absolute_error(y_test_dens, lasso_predict), 3)\n",
    "mse_lr_lasso = round(mean_squared_error(y_test_dens, lasso_predict), 3)\n",
    "mape_lr_lasso = round(mean_absolute_percentage_error(y_test_dens, lasso_predict), 3)\n",
    "rmse_lasso_dens = round(np.sqrt(mean_squared_error(y_test_dens, lasso_predict)), 3)"
   ]
  },
  {
   "cell_type": "code",
   "execution_count": 102,
   "id": "eb30b469",
   "metadata": {},
   "outputs": [
    {
     "name": "stdout",
     "output_type": "stream",
     "text": [
      "Метрики оценки качества работы лассо регрессии:\n",
      "MAE:  368.867\n",
      "MSE:  214058.583\n",
      "MAPE:  0.162\n",
      "RMSE: 462.665\n"
     ]
    }
   ],
   "source": [
    "# выводим на экран метрики ошибок\n",
    "print(\"Метрики оценки качества работы лассо регрессии:\")\n",
    "print(\"MAE: \", mae_dens_lasso) \n",
    "print(\"MSE: \", mse_lr_lasso)\n",
    "print(\"MAPE: \", mape_lr_lasso)\n",
    "print(\"RMSE:\", rmse_lasso_dens)"
   ]
  },
  {
   "cell_type": "markdown",
   "id": "89cbe864",
   "metadata": {},
   "source": [
    "## Метод опорных векторов"
   ]
  },
  {
   "cell_type": "code",
   "execution_count": 103,
   "id": "f97a7fd4",
   "metadata": {},
   "outputs": [],
   "source": [
    "svr_model_dens = SVR()\n",
    "param_grid = {'kernel':['linear', 'poly', 'rbf', 'sigmoid'],\n",
    "             'gamma':['scale', 'auto'], 'C':[0.5, 1.0, 1.5, 2.0]}"
   ]
  },
  {
   "cell_type": "code",
   "execution_count": 104,
   "id": "1619c735",
   "metadata": {},
   "outputs": [],
   "source": [
    "model_svr_dens = GridSearchCV(estimator=svr_model_dens, param_grid=param_grid,\n",
    "                         scoring='neg_mean_squared_error',\n",
    "                         cv=10)"
   ]
  },
  {
   "cell_type": "code",
   "execution_count": 105,
   "id": "2e8ed16f",
   "metadata": {},
   "outputs": [
    {
     "data": {
      "text/plain": [
       "GridSearchCV(cv=10, estimator=SVR(),\n",
       "             param_grid={'C': [0.5, 1.0, 1.5, 2.0], 'gamma': ['scale', 'auto'],\n",
       "                         'kernel': ['linear', 'poly', 'rbf', 'sigmoid']},\n",
       "             scoring='neg_mean_squared_error')"
      ]
     },
     "execution_count": 105,
     "metadata": {},
     "output_type": "execute_result"
    }
   ],
   "source": [
    "model_svr_dens.fit(X_train_normal,y_train_dens)"
   ]
  },
  {
   "cell_type": "code",
   "execution_count": 106,
   "id": "b7509018",
   "metadata": {},
   "outputs": [
    {
     "data": {
      "text/plain": [
       "{'C': 2.0, 'gamma': 'auto', 'kernel': 'poly'}"
      ]
     },
     "execution_count": 106,
     "metadata": {},
     "output_type": "execute_result"
    }
   ],
   "source": [
    "#получаем лучшие параметры для модели\n",
    "model_svr_dens.best_params_"
   ]
  },
  {
   "cell_type": "code",
   "execution_count": 107,
   "id": "e1873a0f",
   "metadata": {},
   "outputs": [],
   "source": [
    "svr_model_dens = SVR(C=2.0, gamma='auto', kernel='poly')"
   ]
  },
  {
   "cell_type": "code",
   "execution_count": 108,
   "id": "2d4ede89",
   "metadata": {},
   "outputs": [
    {
     "data": {
      "text/plain": [
       "SVR(C=2.0, gamma='auto', kernel='poly')"
      ]
     },
     "execution_count": 108,
     "metadata": {},
     "output_type": "execute_result"
    }
   ],
   "source": [
    "svr_model_dens.fit(X_train_normal, y_train_dens)"
   ]
  },
  {
   "cell_type": "code",
   "execution_count": 109,
   "id": "4aabb0f4",
   "metadata": {},
   "outputs": [],
   "source": [
    "svr_predict = svr_model_dens.predict(X_test_normal)"
   ]
  },
  {
   "cell_type": "code",
   "execution_count": 110,
   "id": "afc694e1",
   "metadata": {},
   "outputs": [
    {
     "name": "stdout",
     "output_type": "stream",
     "text": [
      "Метрики оценки качества работы лассо регрессии:\n",
      "MAE:  368.853\n",
      "MSE:  214067.001\n",
      "MAPE:  0.162\n",
      "RMSE:  462.674\n"
     ]
    }
   ],
   "source": [
    "mae_svr_dens = round(mean_absolute_error(y_test_dens, svr_predict), 3)\n",
    "mse_svr_dens = round(mean_squared_error(y_test_dens, svr_predict), 3)\n",
    "mape_svr_dens = round(mean_absolute_percentage_error(y_test_dens, svr_predict), 3)\n",
    "rmse_svr_dens = round(np.sqrt(mean_squared_error(y_test_dens, svr_predict)), 3)\n",
    "print(\"Метрики оценки качества работы лассо регрессии:\")\n",
    "print(\"MAE: \", mae_svr_dens) \n",
    "print(\"MSE: \", mse_svr_dens)\n",
    "print(\"MAPE: \", mape_svr_dens)\n",
    "print(\"RMSE: \", rmse_svr_dens)"
   ]
  },
  {
   "cell_type": "markdown",
   "id": "670eb33a",
   "metadata": {},
   "source": [
    "## Случайный лес"
   ]
  },
  {
   "cell_type": "code",
   "execution_count": 115,
   "id": "1ce27fd1",
   "metadata": {},
   "outputs": [],
   "source": [
    "#производим поиск оптимальных гиперпараметров по сетке\n",
    "param_grid_rf_d = {'n_estimators':[64,80,100,128]}\n",
    "model_rf_d = RandomForestRegressor()"
   ]
  },
  {
   "cell_type": "code",
   "execution_count": 116,
   "id": "1b5efc99",
   "metadata": {},
   "outputs": [],
   "source": [
    "grid_model_rf_d = GridSearchCV(estimator=model_rf_d,\n",
    "                          param_grid=param_grid_rf_d,\n",
    "                          scoring='neg_mean_squared_error',\n",
    "                          cv=10)"
   ]
  },
  {
   "cell_type": "code",
   "execution_count": 117,
   "id": "6f28a72e",
   "metadata": {},
   "outputs": [
    {
     "data": {
      "text/plain": [
       "GridSearchCV(cv=10, estimator=RandomForestRegressor(),\n",
       "             param_grid={'n_estimators': [64, 80, 100, 128]},\n",
       "             scoring='neg_mean_squared_error')"
      ]
     },
     "execution_count": 117,
     "metadata": {},
     "output_type": "execute_result"
    }
   ],
   "source": [
    "grid_model_rf_d.fit(X_train_normal,y_train_dens)"
   ]
  },
  {
   "cell_type": "code",
   "execution_count": 118,
   "id": "83f0024a",
   "metadata": {},
   "outputs": [
    {
     "data": {
      "text/plain": [
       "{'n_estimators': 100}"
      ]
     },
     "execution_count": 118,
     "metadata": {},
     "output_type": "execute_result"
    }
   ],
   "source": [
    "#лучшие параметры\n",
    "grid_model_rf_d.best_params_"
   ]
  },
  {
   "cell_type": "code",
   "execution_count": 119,
   "id": "47609348",
   "metadata": {},
   "outputs": [],
   "source": [
    "#строим модель, используя рекомендованный гипрепараметр\n",
    "model_forest_dens = RandomForestRegressor(n_estimators=100)"
   ]
  },
  {
   "cell_type": "code",
   "execution_count": 120,
   "id": "05be81cb",
   "metadata": {},
   "outputs": [
    {
     "data": {
      "text/plain": [
       "RandomForestRegressor()"
      ]
     },
     "execution_count": 120,
     "metadata": {},
     "output_type": "execute_result"
    }
   ],
   "source": [
    "model_forest_dens.fit(X_train_normal,y_train_dens)"
   ]
  },
  {
   "cell_type": "code",
   "execution_count": 121,
   "id": "ffd609b2",
   "metadata": {},
   "outputs": [],
   "source": [
    "forest_preds = model_forest_dens.predict(X_test_normal)"
   ]
  },
  {
   "cell_type": "code",
   "execution_count": 122,
   "id": "5e1835c9",
   "metadata": {},
   "outputs": [
    {
     "name": "stdout",
     "output_type": "stream",
     "text": [
      "Метрики оценки качества работы случайного леса:\n",
      "MAE:  371.192\n",
      "MSE:  218073.303\n",
      "MAPE:  0.163\n",
      "RMSE: 466.983\n"
     ]
    }
   ],
   "source": [
    "#вычисляем и выводим на экран метрики ошибок\n",
    "mae_rf_dens = round(mean_absolute_error(y_test_dens, forest_preds), 3)\n",
    "mse_rf_dens = round(mean_squared_error(y_test_dens, forest_preds), 3)\n",
    "mape_rf_dens = round(mean_absolute_percentage_error(y_test_dens, forest_preds), 3)\n",
    "rmse_rf_dens = round(np.sqrt(mean_squared_error(y_test_dens, forest_preds)), 3)\n",
    "print(\"Метрики оценки качества работы случайного леса:\")\n",
    "print(\"MAE: \", mae_rf_dens)\n",
    "print(\"MSE: \", mse_rf_dens) \n",
    "print(\"MAPE: \", mape_rf_dens)\n",
    "print(\"RMSE:\", rmse_rf_dens)"
   ]
  },
  {
   "cell_type": "markdown",
   "id": "02bc4bae",
   "metadata": {},
   "source": [
    "## Градиентый бустинг"
   ]
  },
  {
   "cell_type": "code",
   "execution_count": 123,
   "id": "2cdeec83",
   "metadata": {},
   "outputs": [],
   "source": [
    "model_gb_dens = GradientBoostingRegressor()\n",
    "param_grid = {'n_estimators':[5,10,15],\n",
    "              'learning_rate':[0.1,0.05,0.2], 'max_depth':[5,6,7]}"
   ]
  },
  {
   "cell_type": "code",
   "execution_count": 124,
   "id": "78470f0f",
   "metadata": {},
   "outputs": [],
   "source": [
    "grid = GridSearchCV(estimator=model_gb_dens,param_grid=param_grid,\n",
    "                          scoring='neg_mean_squared_error',\n",
    "                          cv=10)"
   ]
  },
  {
   "cell_type": "code",
   "execution_count": 125,
   "id": "72bfb5aa",
   "metadata": {},
   "outputs": [
    {
     "data": {
      "text/plain": [
       "GridSearchCV(cv=10, estimator=GradientBoostingRegressor(),\n",
       "             param_grid={'learning_rate': [0.1, 0.05, 0.2],\n",
       "                         'max_depth': [5, 6, 7], 'n_estimators': [5, 10, 15]},\n",
       "             scoring='neg_mean_squared_error')"
      ]
     },
     "execution_count": 125,
     "metadata": {},
     "output_type": "execute_result"
    }
   ],
   "source": [
    "grid.fit(X_train_normal,y_train_dens)"
   ]
  },
  {
   "cell_type": "code",
   "execution_count": 126,
   "id": "301b36b1",
   "metadata": {},
   "outputs": [
    {
     "data": {
      "text/plain": [
       "{'learning_rate': 0.05, 'max_depth': 6, 'n_estimators': 5}"
      ]
     },
     "execution_count": 126,
     "metadata": {},
     "output_type": "execute_result"
    }
   ],
   "source": [
    "#лучшие параметры для модели\n",
    "grid.best_params_"
   ]
  },
  {
   "cell_type": "code",
   "execution_count": 127,
   "id": "ac80a0cd",
   "metadata": {},
   "outputs": [],
   "source": [
    "#строим модель по гиперпараметрам\n",
    "gb_model_dens = GradientBoostingRegressor(learning_rate=0.05, max_depth=6, n_estimators=5)"
   ]
  },
  {
   "cell_type": "code",
   "execution_count": 128,
   "id": "44237c54",
   "metadata": {},
   "outputs": [
    {
     "data": {
      "text/plain": [
       "GradientBoostingRegressor(learning_rate=0.05, max_depth=6, n_estimators=5)"
      ]
     },
     "execution_count": 128,
     "metadata": {},
     "output_type": "execute_result"
    }
   ],
   "source": [
    "gb_model_dens.fit(X_train_normal, y_train_dens)"
   ]
  },
  {
   "cell_type": "code",
   "execution_count": 129,
   "id": "c3b074ba",
   "metadata": {},
   "outputs": [],
   "source": [
    "gb_preds = gb_model_dens.predict(X_test_normal)"
   ]
  },
  {
   "cell_type": "code",
   "execution_count": 130,
   "id": "3b1ad131",
   "metadata": {},
   "outputs": [
    {
     "name": "stdout",
     "output_type": "stream",
     "text": [
      "Метрики оценки качества работы градиентного бустинга:\n",
      "MAE:  370.013\n",
      "MSE:  213492.151\n",
      "MAPE:  0.162\n",
      "RMSE: 462.052\n"
     ]
    }
   ],
   "source": [
    "#вычисляем метрики ошибок\n",
    "mae_gb_dens = round(mean_absolute_error(y_test_dens, gb_preds), 3)\n",
    "mse_gb_dens = round(mean_squared_error(y_test_dens, gb_preds), 3)\n",
    "mape_gb_dens = round(mean_absolute_percentage_error(y_test_dens, gb_preds), 3)\n",
    "rmse_gb_dens = round(np.sqrt(mean_squared_error(y_test_dens, gb_preds)), 3)\n",
    "# выводим на экран метрики ошибок\n",
    "print(\"Метрики оценки качества работы градиентного бустинга:\")\n",
    "print(\"MAE: \", mae_gb_dens)\n",
    "print(\"MSE: \", mse_gb_dens)\n",
    "print(\"MAPE: \", mape_gb_dens)\n",
    "print(\"RMSE:\", rmse_gb_dens)"
   ]
  },
  {
   "cell_type": "markdown",
   "id": "c21aa547",
   "metadata": {},
   "source": [
    "## Адаптивный бустинг"
   ]
  },
  {
   "cell_type": "code",
   "execution_count": 131,
   "id": "293571ae",
   "metadata": {},
   "outputs": [],
   "source": [
    "model_ab_dens = AdaBoostRegressor()\n",
    "param_grid = {'n_estimators':[3,5,10,15,20],\n",
    "              'learning_rate':[0.1,0.05,0.2]}"
   ]
  },
  {
   "cell_type": "code",
   "execution_count": 132,
   "id": "d4e3f3d7",
   "metadata": {},
   "outputs": [],
   "source": [
    "grid_ab = GridSearchCV(estimator=model_ab_dens, param_grid=param_grid,\n",
    "                          scoring='neg_mean_squared_error',\n",
    "                          cv=10)"
   ]
  },
  {
   "cell_type": "code",
   "execution_count": 133,
   "id": "b3cd7e70",
   "metadata": {},
   "outputs": [
    {
     "data": {
      "text/plain": [
       "GridSearchCV(cv=10, estimator=AdaBoostRegressor(),\n",
       "             param_grid={'learning_rate': [0.1, 0.05, 0.2],\n",
       "                         'n_estimators': [3, 5, 10, 15, 20]},\n",
       "             scoring='neg_mean_squared_error')"
      ]
     },
     "execution_count": 133,
     "metadata": {},
     "output_type": "execute_result"
    }
   ],
   "source": [
    "grid_ab.fit(X_train_normal, y_train_dens)"
   ]
  },
  {
   "cell_type": "code",
   "execution_count": 134,
   "id": "61496fc4",
   "metadata": {},
   "outputs": [
    {
     "data": {
      "text/plain": [
       "{'learning_rate': 0.2, 'n_estimators': 15}"
      ]
     },
     "execution_count": 134,
     "metadata": {},
     "output_type": "execute_result"
    }
   ],
   "source": [
    "#лучшие параметры для модели\n",
    "grid_ab.best_params_"
   ]
  },
  {
   "cell_type": "code",
   "execution_count": 135,
   "id": "699e60f2",
   "metadata": {},
   "outputs": [],
   "source": [
    "ab_model_dens = AdaBoostRegressor(learning_rate=0.2, n_estimators=15)"
   ]
  },
  {
   "cell_type": "code",
   "execution_count": 136,
   "id": "74a4d696",
   "metadata": {},
   "outputs": [
    {
     "data": {
      "text/plain": [
       "AdaBoostRegressor(learning_rate=0.2, n_estimators=15)"
      ]
     },
     "execution_count": 136,
     "metadata": {},
     "output_type": "execute_result"
    }
   ],
   "source": [
    "ab_model_dens.fit(X_train_normal, y_train_dens)"
   ]
  },
  {
   "cell_type": "code",
   "execution_count": 137,
   "id": "88cb6bdf",
   "metadata": {},
   "outputs": [],
   "source": [
    "ab_pred = ab_model_dens.predict(X_test_normal)"
   ]
  },
  {
   "cell_type": "code",
   "execution_count": 138,
   "id": "73c9cc02",
   "metadata": {},
   "outputs": [],
   "source": [
    "#вычисляем метрики ошибок\n",
    "mae_ab_dens = round(mean_absolute_error(y_test_dens, ab_pred), 3)\n",
    "mse_ab_dens = round(mean_squared_error(y_test_dens, ab_pred), 3)\n",
    "mape_ab_dens = round(mean_absolute_percentage_error(y_test_dens, ab_pred), 3)\n",
    "rmse_ab_dens = round(np.sqrt(mean_squared_error(y_test_dens, ab_pred)), 3)"
   ]
  },
  {
   "cell_type": "code",
   "execution_count": 139,
   "id": "0b1d2cd5",
   "metadata": {},
   "outputs": [
    {
     "name": "stdout",
     "output_type": "stream",
     "text": [
      "Метрики оценки качества работы AdaBoost:\n",
      "MAE:  371.652\n",
      "MSE:  214165.537\n",
      "MAPE:  0.163\n",
      "RMSE: 462.78\n"
     ]
    }
   ],
   "source": [
    "#выводим на экран метрики ошибок\n",
    "print(\"Метрики оценки качества работы AdaBoost:\")\n",
    "print(\"MAE: \", mae_ab_dens)\n",
    "print(\"MSE: \", mse_ab_dens) \n",
    "print(\"MAPE: \", mape_ab_dens)\n",
    "print(\"RMSE:\", rmse_ab_dens)"
   ]
  },
  {
   "cell_type": "markdown",
   "id": "1968cb89",
   "metadata": {},
   "source": [
    "## Метод ближайших соседей"
   ]
  },
  {
   "cell_type": "code",
   "execution_count": 140,
   "id": "6851b286",
   "metadata": {},
   "outputs": [],
   "source": [
    "knn_model_dens = KNeighborsRegressor()\n",
    "param_grid_knn_dens = {'n_neighbors':[20,30,35,36]}\n",
    "grid_knn_dens = GridSearchCV(estimator=knn_model, param_grid=param_grid_knn_dens,\n",
    "                          scoring='neg_mean_squared_error',\n",
    "                          cv=10)"
   ]
  },
  {
   "cell_type": "code",
   "execution_count": 141,
   "id": "64287bdd",
   "metadata": {},
   "outputs": [
    {
     "data": {
      "text/plain": [
       "GridSearchCV(cv=10, estimator=KNeighborsRegressor(),\n",
       "             param_grid={'n_neighbors': [20, 30, 35, 36]},\n",
       "             scoring='neg_mean_squared_error')"
      ]
     },
     "execution_count": 141,
     "metadata": {},
     "output_type": "execute_result"
    }
   ],
   "source": [
    "grid_knn_dens.fit(X_train_normal, y_train_dens)"
   ]
  },
  {
   "cell_type": "code",
   "execution_count": 142,
   "id": "a89d4115",
   "metadata": {},
   "outputs": [
    {
     "data": {
      "text/plain": [
       "{'n_neighbors': 35}"
      ]
     },
     "execution_count": 142,
     "metadata": {},
     "output_type": "execute_result"
    }
   ],
   "source": [
    "grid_knn_dens.best_params_"
   ]
  },
  {
   "cell_type": "code",
   "execution_count": 143,
   "id": "408404be",
   "metadata": {},
   "outputs": [
    {
     "data": {
      "text/plain": [
       "KNeighborsRegressor(n_neighbors=35)"
      ]
     },
     "execution_count": 143,
     "metadata": {},
     "output_type": "execute_result"
    }
   ],
   "source": [
    "model_knn_dens = KNeighborsRegressor(n_neighbors=35)\n",
    "model_knn_dens.fit(X_train_normal, y_train_dens)"
   ]
  },
  {
   "cell_type": "code",
   "execution_count": 144,
   "id": "21f0571b",
   "metadata": {},
   "outputs": [],
   "source": [
    "knn_pred = model_knn_dens.predict(X_test_normal)"
   ]
  },
  {
   "cell_type": "code",
   "execution_count": 145,
   "id": "e58082f1",
   "metadata": {},
   "outputs": [
    {
     "name": "stdout",
     "output_type": "stream",
     "text": [
      "Метрики оценки качества работы метода ближайших соседей:\n",
      "MAE:  371.124\n",
      "MSE:  216445.26\n",
      "MAPE:  0.162\n",
      "RMSE: 465.237\n"
     ]
    }
   ],
   "source": [
    "#вычисляем и выводим на экран метрики ошибок\n",
    "mae_knn_dens = round(mean_absolute_error(y_test_dens, knn_pred), 3)\n",
    "mse_knn_dens = round(mean_squared_error(y_test_dens, knn_pred), 3)\n",
    "mape_knn_dens = round(mean_absolute_percentage_error(y_test_dens, knn_pred), 3)\n",
    "rmse_knn_dens = round(np.sqrt(mean_squared_error(y_test_dens, knn_pred)), 3)\n",
    "print(\"Метрики оценки качества работы метода ближайших соседей:\")\n",
    "print(\"MAE: \", mae_knn_dens)\n",
    "print(\"MSE: \", mse_knn_dens) \n",
    "print(\"MAPE: \", mape_knn_dens)\n",
    "print(\"RMSE:\", rmse_knn_dens)"
   ]
  },
  {
   "cell_type": "code",
   "execution_count": 147,
   "id": "e5872cff",
   "metadata": {},
   "outputs": [],
   "source": [
    "#создадим объединенный датафрейм с ошибками\n",
    "methods = {'Алгоритм':['Линейная регрессия', 'Гребневая регрессия', 'Лассо регрессии', \n",
    "                          'Метод опорных векторов', 'Случайный лес', \n",
    "                          'Градиентный бустинг', 'Адаптивный бустинг', 'KNN'], \n",
    "              'MAE':[mae_dens_lr, mae_rr_dens, mae_dens_lasso, mae_svr_dens, mae_rf_dens, mae_gb_dens, mae_ab_dens, mae_knn_dens],\n",
    "              'RMSE':[rmse_lr_dens, rmse_rr_dens, rmse_lasso_dens, rmse_svr_dens, rmse_rf_dens, rmse_gb_dens, rmse_ab_dens, rmse_knn_dens]} \n",
    " \n",
    "metric_df = pd.DataFrame(methods) "
   ]
  },
  {
   "cell_type": "code",
   "execution_count": 148,
   "id": "82aee90f",
   "metadata": {},
   "outputs": [
    {
     "data": {
      "text/html": [
       "<div>\n",
       "<style scoped>\n",
       "    .dataframe tbody tr th:only-of-type {\n",
       "        vertical-align: middle;\n",
       "    }\n",
       "\n",
       "    .dataframe tbody tr th {\n",
       "        vertical-align: top;\n",
       "    }\n",
       "\n",
       "    .dataframe thead th {\n",
       "        text-align: right;\n",
       "    }\n",
       "</style>\n",
       "<table border=\"1\" class=\"dataframe\">\n",
       "  <thead>\n",
       "    <tr style=\"text-align: right;\">\n",
       "      <th></th>\n",
       "      <th>Алгоритм</th>\n",
       "      <th>MAE</th>\n",
       "      <th>RMSE</th>\n",
       "    </tr>\n",
       "  </thead>\n",
       "  <tbody>\n",
       "    <tr>\n",
       "      <th>0</th>\n",
       "      <td>Линейная регрессия</td>\n",
       "      <td>372.052</td>\n",
       "      <td>463.467</td>\n",
       "    </tr>\n",
       "    <tr>\n",
       "      <th>1</th>\n",
       "      <td>Гребневая регрессия</td>\n",
       "      <td>368.959</td>\n",
       "      <td>462.670</td>\n",
       "    </tr>\n",
       "    <tr>\n",
       "      <th>2</th>\n",
       "      <td>Лассо регрессии</td>\n",
       "      <td>368.867</td>\n",
       "      <td>462.665</td>\n",
       "    </tr>\n",
       "    <tr>\n",
       "      <th>3</th>\n",
       "      <td>Метод опорных векторов</td>\n",
       "      <td>368.853</td>\n",
       "      <td>462.674</td>\n",
       "    </tr>\n",
       "    <tr>\n",
       "      <th>4</th>\n",
       "      <td>Случайный лес</td>\n",
       "      <td>371.192</td>\n",
       "      <td>466.983</td>\n",
       "    </tr>\n",
       "    <tr>\n",
       "      <th>5</th>\n",
       "      <td>Градиентный бустинг</td>\n",
       "      <td>370.013</td>\n",
       "      <td>462.052</td>\n",
       "    </tr>\n",
       "    <tr>\n",
       "      <th>6</th>\n",
       "      <td>Адаптивный бустинг</td>\n",
       "      <td>371.652</td>\n",
       "      <td>462.780</td>\n",
       "    </tr>\n",
       "    <tr>\n",
       "      <th>7</th>\n",
       "      <td>KNN</td>\n",
       "      <td>371.124</td>\n",
       "      <td>465.237</td>\n",
       "    </tr>\n",
       "  </tbody>\n",
       "</table>\n",
       "</div>"
      ],
      "text/plain": [
       "                 Алгоритм      MAE     RMSE\n",
       "0      Линейная регрессия  372.052  463.467\n",
       "1     Гребневая регрессия  368.959  462.670\n",
       "2         Лассо регрессии  368.867  462.665\n",
       "3  Метод опорных векторов  368.853  462.674\n",
       "4           Случайный лес  371.192  466.983\n",
       "5     Градиентный бустинг  370.013  462.052\n",
       "6      Адаптивный бустинг  371.652  462.780\n",
       "7                     KNN  371.124  465.237"
      ]
     },
     "execution_count": 148,
     "metadata": {},
     "output_type": "execute_result"
    }
   ],
   "source": [
    "metric_df"
   ]
  },
  {
   "cell_type": "markdown",
   "id": "4d285abd",
   "metadata": {},
   "source": [
    "Вывод: лучшая модель- градиентный бустинг"
   ]
  }
 ],
 "metadata": {
  "kernelspec": {
   "display_name": "Python 3 (ipykernel)",
   "language": "python",
   "name": "python3"
  },
  "language_info": {
   "codemirror_mode": {
    "name": "ipython",
    "version": 3
   },
   "file_extension": ".py",
   "mimetype": "text/x-python",
   "name": "python",
   "nbconvert_exporter": "python",
   "pygments_lexer": "ipython3",
   "version": "3.9.12"
  }
 },
 "nbformat": 4,
 "nbformat_minor": 5
}
