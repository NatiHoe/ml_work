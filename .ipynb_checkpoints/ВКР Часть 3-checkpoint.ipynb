{
 "cells": [
  {
   "cell_type": "code",
   "execution_count": 1,
   "metadata": {
    "id": "48EoVpE1IfIW"
   },
   "outputs": [],
   "source": [
    "import numpy as np\n",
    "import pandas as pd \n",
    "\n",
    "from tensorflow.keras.models import Sequential, Model \n",
    "from tensorflow.keras.layers import Dense, BatchNormalization\n",
    "from tensorflow.keras.optimizers import Adam\n",
    "\n",
    "from sklearn.model_selection import train_test_split \n",
    "from sklearn.metrics import mean_squared_error, mean_absolute_error, mean_absolute_percentage_error\n",
    "import tensorflow as tf\n",
    "import matplotlib.pyplot as plt"
   ]
  },
  {
   "cell_type": "code",
   "execution_count": 3,
   "metadata": {
    "id": "J7dXVxhMIueB"
   },
   "outputs": [],
   "source": [
    "# сохраним датафрейм из csv-файла в переменную df\n",
    "df = pd.read_csv('DATA/clean.csv')"
   ]
  },
  {
   "cell_type": "code",
   "execution_count": 4,
   "metadata": {
    "colab": {
     "base_uri": "https://localhost:8080/",
     "height": 320
    },
    "id": "-ht-6TJYJUq-",
    "outputId": "c5ecc969-76ec-4fe8-bd9e-bf8dd89bd48a"
   },
   "outputs": [
    {
     "data": {
      "text/html": [
       "\n",
       "  <div id=\"df-b0dec113-41af-4f61-a3ee-47d83183fd81\">\n",
       "    <div class=\"colab-df-container\">\n",
       "      <div>\n",
       "<style scoped>\n",
       "    .dataframe tbody tr th:only-of-type {\n",
       "        vertical-align: middle;\n",
       "    }\n",
       "\n",
       "    .dataframe tbody tr th {\n",
       "        vertical-align: top;\n",
       "    }\n",
       "\n",
       "    .dataframe thead th {\n",
       "        text-align: right;\n",
       "    }\n",
       "</style>\n",
       "<table border=\"1\" class=\"dataframe\">\n",
       "  <thead>\n",
       "    <tr style=\"text-align: right;\">\n",
       "      <th></th>\n",
       "      <th>Соотношение матрица-наполнитель</th>\n",
       "      <th>Плотность, кг/м3</th>\n",
       "      <th>модуль упругости, ГПа</th>\n",
       "      <th>Количество отвердителя, м.%</th>\n",
       "      <th>Содержание эпоксидных групп,%_2</th>\n",
       "      <th>Температура вспышки, С_2</th>\n",
       "      <th>Поверхностная плотность, г/м2</th>\n",
       "      <th>Модуль упругости при растяжении, ГПа</th>\n",
       "      <th>Прочность при растяжении, МПа</th>\n",
       "      <th>Потребление смолы, г/м2</th>\n",
       "      <th>Угол нашивки, град</th>\n",
       "      <th>Шаг нашивки</th>\n",
       "      <th>Плотность нашивки</th>\n",
       "    </tr>\n",
       "  </thead>\n",
       "  <tbody>\n",
       "    <tr>\n",
       "      <th>0</th>\n",
       "      <td>1.857143</td>\n",
       "      <td>2030.0</td>\n",
       "      <td>738.736842</td>\n",
       "      <td>50.00</td>\n",
       "      <td>23.750000</td>\n",
       "      <td>284.615385</td>\n",
       "      <td>210.0</td>\n",
       "      <td>70.0</td>\n",
       "      <td>3000.0</td>\n",
       "      <td>220.0</td>\n",
       "      <td>0.0</td>\n",
       "      <td>4.0</td>\n",
       "      <td>60.0</td>\n",
       "    </tr>\n",
       "    <tr>\n",
       "      <th>1</th>\n",
       "      <td>1.857143</td>\n",
       "      <td>2030.0</td>\n",
       "      <td>738.736842</td>\n",
       "      <td>129.00</td>\n",
       "      <td>21.250000</td>\n",
       "      <td>300.000000</td>\n",
       "      <td>210.0</td>\n",
       "      <td>70.0</td>\n",
       "      <td>3000.0</td>\n",
       "      <td>220.0</td>\n",
       "      <td>0.0</td>\n",
       "      <td>5.0</td>\n",
       "      <td>47.0</td>\n",
       "    </tr>\n",
       "    <tr>\n",
       "      <th>2</th>\n",
       "      <td>2.771331</td>\n",
       "      <td>2030.0</td>\n",
       "      <td>753.000000</td>\n",
       "      <td>111.86</td>\n",
       "      <td>22.267857</td>\n",
       "      <td>284.615385</td>\n",
       "      <td>210.0</td>\n",
       "      <td>70.0</td>\n",
       "      <td>3000.0</td>\n",
       "      <td>220.0</td>\n",
       "      <td>0.0</td>\n",
       "      <td>5.0</td>\n",
       "      <td>57.0</td>\n",
       "    </tr>\n",
       "    <tr>\n",
       "      <th>3</th>\n",
       "      <td>2.767918</td>\n",
       "      <td>2000.0</td>\n",
       "      <td>748.000000</td>\n",
       "      <td>111.86</td>\n",
       "      <td>22.267857</td>\n",
       "      <td>284.615385</td>\n",
       "      <td>210.0</td>\n",
       "      <td>70.0</td>\n",
       "      <td>3000.0</td>\n",
       "      <td>220.0</td>\n",
       "      <td>0.0</td>\n",
       "      <td>5.0</td>\n",
       "      <td>60.0</td>\n",
       "    </tr>\n",
       "    <tr>\n",
       "      <th>4</th>\n",
       "      <td>2.569620</td>\n",
       "      <td>1910.0</td>\n",
       "      <td>807.000000</td>\n",
       "      <td>111.86</td>\n",
       "      <td>22.267857</td>\n",
       "      <td>284.615385</td>\n",
       "      <td>210.0</td>\n",
       "      <td>70.0</td>\n",
       "      <td>3000.0</td>\n",
       "      <td>220.0</td>\n",
       "      <td>0.0</td>\n",
       "      <td>5.0</td>\n",
       "      <td>70.0</td>\n",
       "    </tr>\n",
       "  </tbody>\n",
       "</table>\n",
       "</div>\n",
       "      <button class=\"colab-df-convert\" onclick=\"convertToInteractive('df-b0dec113-41af-4f61-a3ee-47d83183fd81')\"\n",
       "              title=\"Convert this dataframe to an interactive table.\"\n",
       "              style=\"display:none;\">\n",
       "        \n",
       "  <svg xmlns=\"http://www.w3.org/2000/svg\" height=\"24px\"viewBox=\"0 0 24 24\"\n",
       "       width=\"24px\">\n",
       "    <path d=\"M0 0h24v24H0V0z\" fill=\"none\"/>\n",
       "    <path d=\"M18.56 5.44l.94 2.06.94-2.06 2.06-.94-2.06-.94-.94-2.06-.94 2.06-2.06.94zm-11 1L8.5 8.5l.94-2.06 2.06-.94-2.06-.94L8.5 2.5l-.94 2.06-2.06.94zm10 10l.94 2.06.94-2.06 2.06-.94-2.06-.94-.94-2.06-.94 2.06-2.06.94z\"/><path d=\"M17.41 7.96l-1.37-1.37c-.4-.4-.92-.59-1.43-.59-.52 0-1.04.2-1.43.59L10.3 9.45l-7.72 7.72c-.78.78-.78 2.05 0 2.83L4 21.41c.39.39.9.59 1.41.59.51 0 1.02-.2 1.41-.59l7.78-7.78 2.81-2.81c.8-.78.8-2.07 0-2.86zM5.41 20L4 18.59l7.72-7.72 1.47 1.35L5.41 20z\"/>\n",
       "  </svg>\n",
       "      </button>\n",
       "      \n",
       "  <style>\n",
       "    .colab-df-container {\n",
       "      display:flex;\n",
       "      flex-wrap:wrap;\n",
       "      gap: 12px;\n",
       "    }\n",
       "\n",
       "    .colab-df-convert {\n",
       "      background-color: #E8F0FE;\n",
       "      border: none;\n",
       "      border-radius: 50%;\n",
       "      cursor: pointer;\n",
       "      display: none;\n",
       "      fill: #1967D2;\n",
       "      height: 32px;\n",
       "      padding: 0 0 0 0;\n",
       "      width: 32px;\n",
       "    }\n",
       "\n",
       "    .colab-df-convert:hover {\n",
       "      background-color: #E2EBFA;\n",
       "      box-shadow: 0px 1px 2px rgba(60, 64, 67, 0.3), 0px 1px 3px 1px rgba(60, 64, 67, 0.15);\n",
       "      fill: #174EA6;\n",
       "    }\n",
       "\n",
       "    [theme=dark] .colab-df-convert {\n",
       "      background-color: #3B4455;\n",
       "      fill: #D2E3FC;\n",
       "    }\n",
       "\n",
       "    [theme=dark] .colab-df-convert:hover {\n",
       "      background-color: #434B5C;\n",
       "      box-shadow: 0px 1px 3px 1px rgba(0, 0, 0, 0.15);\n",
       "      filter: drop-shadow(0px 1px 2px rgba(0, 0, 0, 0.3));\n",
       "      fill: #FFFFFF;\n",
       "    }\n",
       "  </style>\n",
       "\n",
       "      <script>\n",
       "        const buttonEl =\n",
       "          document.querySelector('#df-b0dec113-41af-4f61-a3ee-47d83183fd81 button.colab-df-convert');\n",
       "        buttonEl.style.display =\n",
       "          google.colab.kernel.accessAllowed ? 'block' : 'none';\n",
       "\n",
       "        async function convertToInteractive(key) {\n",
       "          const element = document.querySelector('#df-b0dec113-41af-4f61-a3ee-47d83183fd81');\n",
       "          const dataTable =\n",
       "            await google.colab.kernel.invokeFunction('convertToInteractive',\n",
       "                                                     [key], {});\n",
       "          if (!dataTable) return;\n",
       "\n",
       "          const docLinkHtml = 'Like what you see? Visit the ' +\n",
       "            '<a target=\"_blank\" href=https://colab.research.google.com/notebooks/data_table.ipynb>data table notebook</a>'\n",
       "            + ' to learn more about interactive tables.';\n",
       "          element.innerHTML = '';\n",
       "          dataTable['output_type'] = 'display_data';\n",
       "          await google.colab.output.renderOutput(dataTable, element);\n",
       "          const docLink = document.createElement('div');\n",
       "          docLink.innerHTML = docLinkHtml;\n",
       "          element.appendChild(docLink);\n",
       "        }\n",
       "      </script>\n",
       "    </div>\n",
       "  </div>\n",
       "  "
      ],
      "text/plain": [
       "   Соотношение матрица-наполнитель  Плотность, кг/м3  модуль упругости, ГПа  \\\n",
       "0                         1.857143            2030.0             738.736842   \n",
       "1                         1.857143            2030.0             738.736842   \n",
       "2                         2.771331            2030.0             753.000000   \n",
       "3                         2.767918            2000.0             748.000000   \n",
       "4                         2.569620            1910.0             807.000000   \n",
       "\n",
       "   Количество отвердителя, м.%  Содержание эпоксидных групп,%_2  \\\n",
       "0                        50.00                        23.750000   \n",
       "1                       129.00                        21.250000   \n",
       "2                       111.86                        22.267857   \n",
       "3                       111.86                        22.267857   \n",
       "4                       111.86                        22.267857   \n",
       "\n",
       "   Температура вспышки, С_2  Поверхностная плотность, г/м2  \\\n",
       "0                284.615385                          210.0   \n",
       "1                300.000000                          210.0   \n",
       "2                284.615385                          210.0   \n",
       "3                284.615385                          210.0   \n",
       "4                284.615385                          210.0   \n",
       "\n",
       "   Модуль упругости при растяжении, ГПа  Прочность при растяжении, МПа  \\\n",
       "0                                  70.0                         3000.0   \n",
       "1                                  70.0                         3000.0   \n",
       "2                                  70.0                         3000.0   \n",
       "3                                  70.0                         3000.0   \n",
       "4                                  70.0                         3000.0   \n",
       "\n",
       "   Потребление смолы, г/м2  Угол нашивки, град  Шаг нашивки  Плотность нашивки  \n",
       "0                    220.0                 0.0          4.0               60.0  \n",
       "1                    220.0                 0.0          5.0               47.0  \n",
       "2                    220.0                 0.0          5.0               57.0  \n",
       "3                    220.0                 0.0          5.0               60.0  \n",
       "4                    220.0                 0.0          5.0               70.0  "
      ]
     },
     "execution_count": 4,
     "metadata": {},
     "output_type": "execute_result"
    }
   ],
   "source": [
    "#выведем первые 5 строк датафрейма\n",
    "df.head()"
   ]
  },
  {
   "cell_type": "code",
   "execution_count": 5,
   "metadata": {
    "colab": {
     "base_uri": "https://localhost:8080/"
    },
    "id": "jezksd0VE5kM",
    "outputId": "624a1d81-6182-48f6-99b6-84b2d648730f"
   },
   "outputs": [
    {
     "data": {
      "text/plain": [
       "(922, 13)"
      ]
     },
     "execution_count": 5,
     "metadata": {},
     "output_type": "execute_result"
    }
   ],
   "source": [
    "# размер датафрейма\n",
    "df.shape"
   ]
  },
  {
   "cell_type": "code",
   "execution_count": 6,
   "metadata": {
    "id": "n8cBrnv4chZj"
   },
   "outputs": [],
   "source": [
    "#зададим X и y\n",
    "X = df.drop('Соотношение матрица-наполнитель', axis=1)\n",
    "y = df['Соотношение матрица-наполнитель']"
   ]
  },
  {
   "cell_type": "code",
   "execution_count": 7,
   "metadata": {
    "id": "4RyIkzAtH3iZ"
   },
   "outputs": [],
   "source": [
    "# создадим обучающую и тестовую выборки\n",
    "X_train, X_test, y_train, y_test = train_test_split(X, y, test_size=0.2, random_state=42)"
   ]
  },
  {
   "cell_type": "code",
   "execution_count": 8,
   "metadata": {
    "colab": {
     "base_uri": "https://localhost:8080/"
    },
    "id": "GiMIsc_gINly",
    "outputId": "6ffabe38-3eec-466c-9fb2-fb6910c4633e"
   },
   "outputs": [
    {
     "name": "stdout",
     "output_type": "stream",
     "text": [
      "(737, 12) (185, 12) (737,) (185,)\n"
     ]
    }
   ],
   "source": [
    "# размеры обучающих и тестовых наборов данных\n",
    "print(X_train.shape, X_test.shape, y_train.shape, y_test.shape)"
   ]
  },
  {
   "cell_type": "code",
   "execution_count": 9,
   "metadata": {
    "id": "NLZKxf2WC2On"
   },
   "outputs": [],
   "source": [
    "# нейронная сеть\n",
    "model = Sequential()\n",
    "model.add(BatchNormalization(input_shape=(X_train.shape[1],)))\n",
    "model.add(Dense(128, kernel_initializer='normal', activation='sigmoid'))\n",
    "model.add(Dense(64, kernel_initializer='normal', activation='tanh'))\n",
    "model.add(Dense(20, kernel_initializer='normal', activation='sigmoid'))\n",
    "model.add(Dense(1, activation='linear'))"
   ]
  },
  {
   "cell_type": "code",
   "execution_count": 10,
   "metadata": {
    "colab": {
     "base_uri": "https://localhost:8080/"
    },
    "id": "tgkOPydjlKT8",
    "outputId": "5b1eb277-1c8e-43f7-ed92-abd3bdb2a283"
   },
   "outputs": [
    {
     "name": "stdout",
     "output_type": "stream",
     "text": [
      "Model: \"sequential\"\n",
      "_________________________________________________________________\n",
      " Layer (type)                Output Shape              Param #   \n",
      "=================================================================\n",
      " batch_normalization (BatchN  (None, 12)               48        \n",
      " ormalization)                                                   \n",
      "                                                                 \n",
      " dense (Dense)               (None, 128)               1664      \n",
      "                                                                 \n",
      " dense_1 (Dense)             (None, 64)                8256      \n",
      "                                                                 \n",
      " dense_2 (Dense)             (None, 20)                1300      \n",
      "                                                                 \n",
      " dense_3 (Dense)             (None, 1)                 21        \n",
      "                                                                 \n",
      "=================================================================\n",
      "Total params: 11,289\n",
      "Trainable params: 11,265\n",
      "Non-trainable params: 24\n",
      "_________________________________________________________________\n"
     ]
    }
   ],
   "source": [
    "# информация о нейронной сети\n",
    "model.summary()"
   ]
  },
  {
   "cell_type": "code",
   "execution_count": 11,
   "metadata": {
    "id": "GJGV6N7RbFx5"
   },
   "outputs": [],
   "source": [
    "# подключим RMSE из иблиотеки tensorflow и поместим ее в переменную rmse\n",
    "rmse = tf.keras.metrics.RootMeanSquaredError()"
   ]
  },
  {
   "cell_type": "code",
   "execution_count": 12,
   "metadata": {
    "id": "c52Yg8MZDuig"
   },
   "outputs": [],
   "source": [
    "# компиляция модели\n",
    "model.compile(loss='mse', optimizer='adam', metrics=[rmse])"
   ]
  },
  {
   "cell_type": "code",
   "execution_count": 13,
   "metadata": {
    "colab": {
     "base_uri": "https://localhost:8080/"
    },
    "id": "ueGqLa19CwOv",
    "outputId": "c09f0302-1867-464e-85c0-e04114cfa7c1"
   },
   "outputs": [
    {
     "name": "stdout",
     "output_type": "stream",
     "text": [
      "Epoch 1/40\n",
      "19/19 [==============================] - 3s 14ms/step - loss: 5.2839 - root_mean_squared_error: 2.2987 - val_loss: 1.6715 - val_root_mean_squared_error: 1.2929\n",
      "Epoch 2/40\n",
      "19/19 [==============================] - 0s 5ms/step - loss: 0.9855 - root_mean_squared_error: 0.9927 - val_loss: 0.8201 - val_root_mean_squared_error: 0.9056\n",
      "Epoch 3/40\n",
      "19/19 [==============================] - 0s 5ms/step - loss: 0.8137 - root_mean_squared_error: 0.9021 - val_loss: 0.8372 - val_root_mean_squared_error: 0.9150\n",
      "Epoch 4/40\n",
      "19/19 [==============================] - 0s 5ms/step - loss: 0.8118 - root_mean_squared_error: 0.9010 - val_loss: 0.8248 - val_root_mean_squared_error: 0.9082\n",
      "Epoch 5/40\n",
      "19/19 [==============================] - 0s 5ms/step - loss: 0.8019 - root_mean_squared_error: 0.8955 - val_loss: 0.8207 - val_root_mean_squared_error: 0.9059\n",
      "Epoch 6/40\n",
      "19/19 [==============================] - 0s 5ms/step - loss: 0.8016 - root_mean_squared_error: 0.8953 - val_loss: 0.8212 - val_root_mean_squared_error: 0.9062\n",
      "Epoch 7/40\n",
      "19/19 [==============================] - 0s 5ms/step - loss: 0.8016 - root_mean_squared_error: 0.8953 - val_loss: 0.8215 - val_root_mean_squared_error: 0.9064\n",
      "Epoch 8/40\n",
      "19/19 [==============================] - 0s 4ms/step - loss: 0.8012 - root_mean_squared_error: 0.8951 - val_loss: 0.8214 - val_root_mean_squared_error: 0.9063\n",
      "Epoch 9/40\n",
      "19/19 [==============================] - 0s 5ms/step - loss: 0.8010 - root_mean_squared_error: 0.8950 - val_loss: 0.8222 - val_root_mean_squared_error: 0.9068\n",
      "Epoch 10/40\n",
      "19/19 [==============================] - 0s 5ms/step - loss: 0.8007 - root_mean_squared_error: 0.8948 - val_loss: 0.8219 - val_root_mean_squared_error: 0.9066\n",
      "Epoch 11/40\n",
      "19/19 [==============================] - 0s 5ms/step - loss: 0.8001 - root_mean_squared_error: 0.8945 - val_loss: 0.8224 - val_root_mean_squared_error: 0.9069\n",
      "Epoch 12/40\n",
      "19/19 [==============================] - 0s 5ms/step - loss: 0.8001 - root_mean_squared_error: 0.8945 - val_loss: 0.8226 - val_root_mean_squared_error: 0.9070\n",
      "Epoch 13/40\n",
      "19/19 [==============================] - 0s 5ms/step - loss: 0.7998 - root_mean_squared_error: 0.8943 - val_loss: 0.8231 - val_root_mean_squared_error: 0.9072\n",
      "Epoch 14/40\n",
      "19/19 [==============================] - 0s 5ms/step - loss: 0.8015 - root_mean_squared_error: 0.8953 - val_loss: 0.8232 - val_root_mean_squared_error: 0.9073\n",
      "Epoch 15/40\n",
      "19/19 [==============================] - 0s 5ms/step - loss: 0.7986 - root_mean_squared_error: 0.8937 - val_loss: 0.8236 - val_root_mean_squared_error: 0.9075\n",
      "Epoch 16/40\n",
      "19/19 [==============================] - 0s 5ms/step - loss: 0.7979 - root_mean_squared_error: 0.8932 - val_loss: 0.8243 - val_root_mean_squared_error: 0.9079\n",
      "Epoch 17/40\n",
      "19/19 [==============================] - 0s 4ms/step - loss: 0.7993 - root_mean_squared_error: 0.8940 - val_loss: 0.8242 - val_root_mean_squared_error: 0.9079\n",
      "Epoch 18/40\n",
      "19/19 [==============================] - 0s 5ms/step - loss: 0.8000 - root_mean_squared_error: 0.8944 - val_loss: 0.8259 - val_root_mean_squared_error: 0.9088\n",
      "Epoch 19/40\n",
      "19/19 [==============================] - 0s 5ms/step - loss: 0.8004 - root_mean_squared_error: 0.8946 - val_loss: 0.8266 - val_root_mean_squared_error: 0.9092\n",
      "Epoch 20/40\n",
      "19/19 [==============================] - 0s 5ms/step - loss: 0.7958 - root_mean_squared_error: 0.8921 - val_loss: 0.8263 - val_root_mean_squared_error: 0.9090\n",
      "Epoch 21/40\n",
      "19/19 [==============================] - 0s 4ms/step - loss: 0.7982 - root_mean_squared_error: 0.8934 - val_loss: 0.8289 - val_root_mean_squared_error: 0.9105\n",
      "Epoch 22/40\n",
      "19/19 [==============================] - 0s 6ms/step - loss: 0.8014 - root_mean_squared_error: 0.8952 - val_loss: 0.8276 - val_root_mean_squared_error: 0.9097\n",
      "Epoch 23/40\n",
      "19/19 [==============================] - 0s 5ms/step - loss: 0.7960 - root_mean_squared_error: 0.8922 - val_loss: 0.8291 - val_root_mean_squared_error: 0.9105\n",
      "Epoch 24/40\n",
      "19/19 [==============================] - 0s 5ms/step - loss: 0.7957 - root_mean_squared_error: 0.8920 - val_loss: 0.8306 - val_root_mean_squared_error: 0.9114\n",
      "Epoch 25/40\n",
      "19/19 [==============================] - 0s 5ms/step - loss: 0.7958 - root_mean_squared_error: 0.8921 - val_loss: 0.8303 - val_root_mean_squared_error: 0.9112\n",
      "Epoch 26/40\n",
      "19/19 [==============================] - 0s 5ms/step - loss: 0.7928 - root_mean_squared_error: 0.8904 - val_loss: 0.8311 - val_root_mean_squared_error: 0.9116\n",
      "Epoch 27/40\n",
      "19/19 [==============================] - 0s 5ms/step - loss: 0.7933 - root_mean_squared_error: 0.8907 - val_loss: 0.8317 - val_root_mean_squared_error: 0.9120\n",
      "Epoch 28/40\n",
      "19/19 [==============================] - 0s 5ms/step - loss: 0.7931 - root_mean_squared_error: 0.8906 - val_loss: 0.8331 - val_root_mean_squared_error: 0.9127\n",
      "Epoch 29/40\n",
      "19/19 [==============================] - 0s 5ms/step - loss: 0.7940 - root_mean_squared_error: 0.8911 - val_loss: 0.8340 - val_root_mean_squared_error: 0.9133\n",
      "Epoch 30/40\n",
      "19/19 [==============================] - 0s 5ms/step - loss: 0.7928 - root_mean_squared_error: 0.8904 - val_loss: 0.8359 - val_root_mean_squared_error: 0.9143\n",
      "Epoch 31/40\n",
      "19/19 [==============================] - 0s 5ms/step - loss: 0.7920 - root_mean_squared_error: 0.8900 - val_loss: 0.8364 - val_root_mean_squared_error: 0.9146\n",
      "Epoch 32/40\n",
      "19/19 [==============================] - 0s 6ms/step - loss: 0.7941 - root_mean_squared_error: 0.8911 - val_loss: 0.8373 - val_root_mean_squared_error: 0.9150\n",
      "Epoch 33/40\n",
      "19/19 [==============================] - 0s 4ms/step - loss: 0.7910 - root_mean_squared_error: 0.8894 - val_loss: 0.8384 - val_root_mean_squared_error: 0.9156\n",
      "Epoch 34/40\n",
      "19/19 [==============================] - 0s 4ms/step - loss: 0.7923 - root_mean_squared_error: 0.8901 - val_loss: 0.8389 - val_root_mean_squared_error: 0.9159\n",
      "Epoch 35/40\n",
      "19/19 [==============================] - 0s 4ms/step - loss: 0.7939 - root_mean_squared_error: 0.8910 - val_loss: 0.8394 - val_root_mean_squared_error: 0.9162\n",
      "Epoch 36/40\n",
      "19/19 [==============================] - 0s 4ms/step - loss: 0.7933 - root_mean_squared_error: 0.8907 - val_loss: 0.8392 - val_root_mean_squared_error: 0.9161\n",
      "Epoch 37/40\n",
      "19/19 [==============================] - 0s 5ms/step - loss: 0.7918 - root_mean_squared_error: 0.8898 - val_loss: 0.8410 - val_root_mean_squared_error: 0.9171\n",
      "Epoch 38/40\n",
      "19/19 [==============================] - 0s 5ms/step - loss: 0.7898 - root_mean_squared_error: 0.8887 - val_loss: 0.8412 - val_root_mean_squared_error: 0.9172\n",
      "Epoch 39/40\n",
      "19/19 [==============================] - 0s 5ms/step - loss: 0.7956 - root_mean_squared_error: 0.8920 - val_loss: 0.8416 - val_root_mean_squared_error: 0.9174\n",
      "Epoch 40/40\n",
      "19/19 [==============================] - 0s 4ms/step - loss: 0.7934 - root_mean_squared_error: 0.8907 - val_loss: 0.8442 - val_root_mean_squared_error: 0.9188\n"
     ]
    }
   ],
   "source": [
    "# обучение модели\n",
    "model_hist = model.fit(X_train, \n",
    "    y_train, \n",
    "    epochs = 40,\n",
    "    validation_split = 0.2)"
   ]
  },
  {
   "cell_type": "code",
   "execution_count": 14,
   "metadata": {
    "colab": {
     "base_uri": "https://localhost:8080/"
    },
    "id": "V4N1xTmdh9cH",
    "outputId": "daa70ad4-0ad9-4961-c855-f1a1c16ef5d3"
   },
   "outputs": [
    {
     "name": "stdout",
     "output_type": "stream",
     "text": [
      "6/6 [==============================] - 0s 2ms/step\n",
      "Результаты работы нейронной сети:\n",
      "MAE:  0.727\n",
      "MAPE:  0.293\n",
      "RMSE:  0.883\n"
     ]
    }
   ],
   "source": [
    "# вычисляем метрики ошибок и выводим их на экран\n",
    "y_pred_model = model.predict(X_test)\n",
    "\n",
    "print('Результаты работы нейронной сети:')\n",
    "print('MAE: ', round(mean_absolute_error(y_test, y_pred_model), 3))\n",
    "print('MAPE: ', round(mean_absolute_percentage_error(y_test, y_pred_model), 3))\n",
    "print(\"RMSE: \", round(np.sqrt(mean_squared_error(y_test, y_pred_model)), 3))"
   ]
  },
  {
   "cell_type": "code",
   "execution_count": 15,
   "metadata": {
    "colab": {
     "base_uri": "https://localhost:8080/",
     "height": 350
    },
    "id": "sVli5I3xlnDn",
    "outputId": "0265b675-65a5-4b4c-e137-cadc1dbe6f0d"
   },
   "outputs": [
    {
     "data": {
      "image/png": "[encoded data removed]",
      "text/plain": [
       "<Figure size 1224x360 with 1 Axes>"
      ]
     },
     "metadata": {
      "needs_background": "light"
     },
     "output_type": "display_data"
    }
   ],
   "source": [
    "# график ошибок на обучающей и тестовой выборках\n",
    "plt.figure(figsize = (17,5))\n",
    "plt.plot(model_hist.history['loss'],\n",
    "        label = 'ошибка на обучающей выборке')\n",
    "plt.plot(model_hist.history['val_loss'],\n",
    "        label = 'ошибка на тестовой выборке')\n",
    "plt.title('График потерь модели')\n",
    "plt.ylabel('Значение ошибки')\n",
    "plt.xlabel('Эпохи')\n",
    "plt.ylim(0,2)\n",
    "plt.legend(['Oшибка на обучающей выборке', 'Ошибка на тестовой выборке'], loc='best');"
   ]
  }
 ],
 "metadata": {
  "accelerator": "GPU",
  "colab": {
   "collapsed_sections": [],
   "provenance": []
  },
  "kernelspec": {
   "display_name": "Python 3 (ipykernel)",
   "language": "python",
   "name": "python3"
  },
  "language_info": {
   "codemirror_mode": {
    "name": "ipython",
    "version": 3
   },
   "file_extension": ".py",
   "mimetype": "text/x-python",
   "name": "python",
   "nbconvert_exporter": "python",
   "pygments_lexer": "ipython3",
   "version": "3.9.12"
  }
 },
 "nbformat": 4,
 "nbformat_minor": 1
}
